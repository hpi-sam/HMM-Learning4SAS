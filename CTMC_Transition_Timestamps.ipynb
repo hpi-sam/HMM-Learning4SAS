{
  "nbformat": 4,
  "nbformat_minor": 0,
  "metadata": {
    "colab": {
      "name": "Untitled5.ipynb",
      "provenance": [],
      "collapsed_sections": [],
      "toc_visible": true,
      "authorship_tag": "ABX9TyOC5wX5DMEXGKEaR/lklh9D",
      "include_colab_link": true
    },
    "kernelspec": {
      "name": "python3",
      "display_name": "Python 3"
    }
  },
  "cells": [
    {
      "cell_type": "markdown",
      "metadata": {
        "id": "view-in-github",
        "colab_type": "text"
      },
      "source": [
        "<a href=\"https://colab.research.google.com/github/hpi-sam/MarkovModels_Lecture/blob/main/CTMC_Transition_Timestamps.ipynb\" target=\"_parent\"><img src=\"https://colab.research.google.com/assets/colab-badge.svg\" alt=\"Open In Colab\"/></a>"
      ]
    },
    {
      "cell_type": "code",
      "metadata": {
        "colab": {
          "base_uri": "https://localhost:8080/"
        },
        "id": "LYRLjT6h4v3x",
        "outputId": "ccbd5115-d02c-4bd5-b442-4910e97b2ff7"
      },
      "source": [
        "from datetime import datetime\r\n",
        "\r\n",
        "# current date and time\r\n",
        "now = datetime.now()\r\n",
        "start_time = datetime.timestamp(now)\r\n",
        "print(\"start_time =\", start_time)\r\n",
        "\r\n",
        "transition_o1_d1_prev = start_time\r\n",
        "\r\n",
        "now = datetime.now()\r\n",
        "transition_o1_d1 = datetime.timestamp(now)\r\n",
        "print(\"transition_o1_d1 time,1,\", transition_o1_d1 - transition_o1_d1_prev)\r\n",
        "transition_o1_d1_prev = transition_o1_d1\r\n",
        "\r\n",
        "now = datetime.now()\r\n",
        "transition_o1_d1 = datetime.timestamp(now)\r\n",
        "print(\"transition_o1_d1 time,2,\", transition_o1_d1 - transition_o1_d1_prev)\r\n",
        "transition_o1_d1_prev = transition_o1_d1\r\n",
        "\r\n",
        "now = datetime.now()\r\n",
        "transition_o1_d1 = datetime.timestamp(now)\r\n",
        "print(\"transition_o1_d1 time,3,\", transition_o1_d1 - transition_o1_d1_prev)\r\n",
        "transition_o1_d1_prev = transition_o1_d1\r\n"
      ],
      "execution_count": 5,
      "outputs": [
        {
          "output_type": "stream",
          "text": [
            "start_time = 1608197445.884393\n",
            "transition_o1_d1 time,1, 0.00019812583923339844\n",
            "transition_o1_d1 time,2, 0.00014090538024902344\n",
            "transition_o1_d1 time,3, 0.0001609325408935547\n"
          ],
          "name": "stdout"
        }
      ]
    }
  ]
}