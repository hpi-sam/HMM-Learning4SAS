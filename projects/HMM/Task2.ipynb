{
 "metadata": {
  "language_info": {
   "codemirror_mode": {
    "name": "ipython",
    "version": 3
   },
   "file_extension": ".py",
   "mimetype": "text/x-python",
   "name": "python",
   "nbconvert_exporter": "python",
   "pygments_lexer": "ipython3",
   "version": "3.9.0-final"
  },
  "orig_nbformat": 2,
  "kernelspec": {
   "name": "python3",
   "display_name": "Python 3.9.0 64-bit",
   "metadata": {
    "interpreter": {
     "hash": "ac59ebe37160ed0dfa835113d9b8498d9f09ceb179beaac4002f036b9467c963"
    }
   }
  }
 },
 "nbformat": 4,
 "nbformat_minor": 2,
 "cells": [
  {
   "cell_type": "code",
   "execution_count": 2,
   "metadata": {},
   "outputs": [],
   "source": [
    "import numpy as np\n",
    "from hmmlearn import hmm"
   ]
  },
  {
   "cell_type": "code",
   "execution_count": 3,
   "metadata": {},
   "outputs": [
    {
     "output_type": "execute_result",
     "data": {
      "text/plain": [
       "array([[0.15 , 0.05 , 0.   , 0.8  , 0.   , 0.   ],\n",
       "       [0.5  , 0.25 , 0.1  , 0.   , 0.15 , 0.   ],\n",
       "       [0.25 , 0.   , 0.5  , 0.125, 0.   , 0.125]])"
      ]
     },
     "metadata": {},
     "execution_count": 3
    }
   ],
   "source": [
    "A_internal = [[0.15, 0.05, 0.0, 0.8, 0.0, 0.0], [0.5, 0.25, 0.1, 0.0, 0.15, 0.0], [0.25, 0.0, 0.5, 0.125, 0.0, 0.125]]\n",
    "T_internal = np.array(A_internal)\n",
    "T_internal\n",
    "# the first 3 columns refer to internal transitions, the last 3 columns refer to external transition to other components"
   ]
  },
  {
   "cell_type": "code",
   "execution_count": 4,
   "metadata": {},
   "outputs": [
    {
     "output_type": "execute_result",
     "data": {
      "text/plain": [
       "array([[0.  , 0.  , 0.  , 0.  , 0.  , 0.  , 0.  , 0.  , 0.  , 0.  , 0.  ,\n",
       "        0.  , 1.  , 0.  , 0.  , 0.  , 0.  , 0.  , 0.  ],\n",
       "       [0.  , 0.  , 0.  , 0.  , 0.  , 0.  , 0.  , 0.  , 0.  , 0.  , 0.  ,\n",
       "        0.  , 0.  , 0.  , 1.  , 0.  , 0.  , 0.  , 0.  ],\n",
       "       [0.25, 0.  , 0.  , 0.  , 0.  , 0.  , 0.  , 0.25, 0.  , 0.  , 0.  ,\n",
       "        0.25, 0.25, 0.  , 0.  , 0.  , 0.  , 0.  , 0.  ],\n",
       "       [0.  , 1.  , 0.  , 0.  , 0.  , 0.  , 0.  , 0.  , 0.  , 0.  , 0.  ,\n",
       "        0.  , 0.  , 0.  , 0.  , 0.  , 0.  , 0.  , 0.  ],\n",
       "       [0.  , 0.  , 0.  , 0.  , 0.  , 0.  , 0.  , 0.  , 0.  , 0.  , 0.  ,\n",
       "        0.  , 0.  , 1.  , 0.  , 0.  , 0.  , 0.  , 0.  ],\n",
       "       [0.  , 0.  , 0.  , 0.  , 1.  , 0.  , 0.  , 0.  , 0.  , 0.  , 0.  ,\n",
       "        0.  , 0.  , 0.  , 0.  , 0.  , 0.  , 0.  , 0.  ],\n",
       "       [0.  , 0.  , 0.  , 0.  , 0.  , 0.  , 0.  , 0.  , 0.  , 0.  , 0.  ,\n",
       "        0.  , 0.  , 0.  , 0.  , 0.  , 0.  , 0.  , 1.  ],\n",
       "       [0.  , 0.  , 0.  , 0.  , 0.  , 0.  , 0.  , 0.  , 0.  , 0.  , 0.  ,\n",
       "        0.5 , 0.5 , 0.  , 0.  , 0.  , 0.  , 0.  , 0.  ],\n",
       "       [0.33, 0.  , 0.  , 0.  , 0.  , 0.  , 0.  , 0.  , 0.  , 0.  , 0.  ,\n",
       "        0.34, 0.33, 0.  , 0.  , 0.  , 0.  , 0.  , 0.  ],\n",
       "       [0.  , 0.  , 0.  , 0.  , 0.  , 0.  , 0.  , 0.  , 0.  , 0.  , 1.  ,\n",
       "        0.  , 0.  , 0.  , 0.  , 0.  , 0.  , 0.  , 0.  ],\n",
       "       [0.  , 0.  , 0.  , 1.  , 0.  , 0.  , 0.  , 0.  , 0.  , 0.  , 0.  ,\n",
       "        0.  , 0.  , 0.  , 0.  , 0.  , 0.  , 0.  , 0.  ],\n",
       "       [0.  , 0.  , 0.  , 0.  , 0.  , 0.  , 0.  , 0.  , 0.  , 0.  , 0.  ,\n",
       "        0.  , 0.  , 0.  , 0.  , 0.  , 0.  , 0.  , 1.  ],\n",
       "       [0.  , 0.  , 0.  , 0.  , 0.  , 0.  , 0.  , 0.  , 0.  , 1.  , 0.  ,\n",
       "        0.  , 0.  , 0.  , 0.  , 0.  , 0.  , 0.  , 0.  ],\n",
       "       [0.  , 0.  , 0.  , 0.  , 0.  , 0.  , 1.  , 0.  , 0.  , 0.  , 0.  ,\n",
       "        0.  , 0.  , 0.  , 0.  , 0.  , 0.  , 0.  , 0.  ],\n",
       "       [0.  , 0.  , 0.  , 0.  , 0.  , 0.  , 0.  , 0.  , 0.  , 0.  , 0.  ,\n",
       "        0.  , 0.  , 0.  , 0.  , 0.  , 1.  , 0.  , 0.  ],\n",
       "       [0.33, 0.  , 0.  , 0.  , 0.  , 0.  , 0.  , 0.  , 0.  , 0.  , 0.  ,\n",
       "        0.34, 0.33, 0.  , 0.  , 0.  , 0.  , 0.  , 0.  ],\n",
       "       [0.  , 0.  , 0.  , 0.  , 0.  , 1.  , 0.  , 0.  , 0.  , 0.  , 0.  ,\n",
       "        0.  , 0.  , 0.  , 0.  , 0.  , 0.  , 0.  , 0.  ],\n",
       "       [0.33, 0.  , 0.  , 0.  , 0.  , 0.  , 0.  , 0.  , 0.  , 0.  , 0.  ,\n",
       "        0.34, 0.33, 0.  , 0.  , 0.  , 0.  , 0.  , 0.  ],\n",
       "       [0.17, 0.  , 0.17, 0.  , 0.  , 0.  , 0.  , 0.17, 0.17, 0.  , 0.  ,\n",
       "        0.  , 0.  , 0.  , 0.  , 0.16, 0.  , 0.16, 0.  ]])"
      ]
     },
     "metadata": {},
     "execution_count": 4
    }
   ],
   "source": [
    "# probabilities external transitions, ie if there is an external transition, where does the transition lead?\n",
    "A_external = [[0.0 for col in range(19)] for row in range(19)]\n",
    "A_external[0][12] = 1\n",
    "\n",
    "A_external[1][14] = 1\n",
    "\n",
    "A_external[2][0] = .25\n",
    "A_external[2][7] = .25\n",
    "A_external[2][11] = .25\n",
    "A_external[2][12] = .25\n",
    "\n",
    "A_external[3][1] = 1\n",
    "\n",
    "A_external[4][13] = 1\n",
    "\n",
    "A_external[5][4] = 1\n",
    "\n",
    "A_external[6][18] = 1\n",
    "\n",
    "A_external[7][11] = .5\n",
    "A_external[7][12] = .5\n",
    "\n",
    "A_external[8][0] = .33\n",
    "A_external[8][11] = .34\n",
    "A_external[8][12] = .33\n",
    "\n",
    "A_external[9][10] = 1\n",
    "\n",
    "A_external[10][3] = 1\n",
    "\n",
    "A_external[11][18] = 1\n",
    "\n",
    "A_external[12][9] = 1\n",
    "\n",
    "A_external[13][6] = 1\n",
    "\n",
    "A_external[14][16] = 1\n",
    "\n",
    "A_external[15][0] = .33\n",
    "A_external[15][11] = .34\n",
    "A_external[15][12] = .33\n",
    "\n",
    "A_external[16][5] = 1\n",
    "\n",
    "A_external[17][0] = .33\n",
    "A_external[17][11] = .34\n",
    "A_external[17][12] = .33\n",
    "\n",
    "A_external[18][0] = .17\n",
    "A_external[18][2] = .17\n",
    "A_external[18][7] = .17\n",
    "A_external[18][8] = .17\n",
    "A_external[18][15] = .16\n",
    "A_external[18][17] = .16\n",
    "\n",
    "T_external = np.array(A_external)\n",
    "T_external"
   ]
  },
  {
   "cell_type": "code",
   "execution_count": 5,
   "metadata": {},
   "outputs": [
    {
     "output_type": "execute_result",
     "data": {
      "text/plain": [
       "array([[0.15   , 0.05   , 0.     , ..., 0.     , 0.     , 0.     ],\n",
       "       [0.5    , 0.25   , 0.1    , ..., 0.     , 0.     , 0.     ],\n",
       "       [0.25   , 0.     , 0.5    , ..., 0.     , 0.     , 0.     ],\n",
       "       ...,\n",
       "       [0.136  , 0.     , 0.     , ..., 0.15   , 0.05   , 0.     ],\n",
       "       [0.     , 0.0255 , 0.     , ..., 0.5    , 0.25   , 0.1    ],\n",
       "       [0.02125, 0.     , 0.02125, ..., 0.25   , 0.     , 0.5    ]])"
      ]
     },
     "metadata": {},
     "execution_count": 5
    }
   ],
   "source": [
    "A_complete = [[0.0 for col in range(19 * 3)] for row in range(19 * 3)]\n",
    "for x in range(19):\n",
    "    for s in range(3):\n",
    "        xs = x * 3 + s\n",
    "        # internal transitions\n",
    "        A_complete[xs][x * 3] = A_internal[s][0]\n",
    "        A_complete[xs][x * 3 + 1] = A_internal[s][1]\n",
    "        A_complete[xs][x * 3 + 2] = A_internal[s][2]\n",
    "        for y in range(19):\n",
    "            if y != x:\n",
    "                # external transitions\n",
    "                A_complete[xs][y * 3] = A_internal[s][3] * A_external[x][y]\n",
    "                A_complete[xs][y * 3 + 1] = A_internal[s][4] * A_external[x][y]\n",
    "                A_complete[xs][y * 3 + 2] = A_internal[s][5] * A_external[x][y]\n",
    "T_complete = np.array(A_complete)\n",
    "T_complete"
   ]
  },
  {
   "cell_type": "code",
   "execution_count": 6,
   "metadata": {},
   "outputs": [
    {
     "output_type": "execute_result",
     "data": {
      "text/plain": [
       "GaussianHMM(covariance_type='spherical', n_components=57)"
      ]
     },
     "metadata": {},
     "execution_count": 6
    }
   ],
   "source": [
    "model = hmm.GaussianHMM(n_components=19 * 3, covariance_type=\"spherical\")\n",
    "model"
   ]
  },
  {
   "cell_type": "code",
   "execution_count": 7,
   "metadata": {},
   "outputs": [],
   "source": [
    "startprob = [0.0] * (19 * 3)\n",
    "startprob[0] = 1.0\n",
    "model.startprob_ = np.array(startprob)\n",
    "model.transmat_ = T_complete\n",
    "model.features = 19 * 3"
   ]
  },
  {
   "cell_type": "code",
   "execution_count": 13,
   "metadata": {},
   "outputs": [
    {
     "output_type": "execute_result",
     "data": {
      "text/plain": [
       "array([[0.85, 0.15, 0.  , 0.  , 0.  , 0.  ],\n",
       "       [0.1 , 0.6 , 0.2 , 0.  , 0.1 , 0.  ],\n",
       "       [0.05, 0.  , 0.7 , 0.1 , 0.  , 0.15]])"
      ]
     },
     "metadata": {},
     "execution_count": 13
    }
   ],
   "source": [
    "O_internal = np.array([[0.85, 0.15, 0.0, 0.0, 0.0, 0.0], [0.1, 0.6, 0.2, 0.0, 0.1, 0.0], [0.05, 0.0, 0.7, 0.1, 0.0, 0.15]])\n",
    "O_internal"
   ]
  },
  {
   "cell_type": "code",
   "execution_count": 15,
   "metadata": {},
   "outputs": [
    {
     "output_type": "execute_result",
     "data": {
      "text/plain": [
       "array([[0.85  , 0.15  , 0.    , ..., 0.    , 0.    , 0.    ],\n",
       "       [0.1   , 0.6   , 0.2   , ..., 0.    , 0.    , 0.    ],\n",
       "       [0.05  , 0.    , 0.7   , ..., 0.    , 0.    , 0.    ],\n",
       "       ...,\n",
       "       [0.    , 0.    , 0.    , ..., 0.85  , 0.15  , 0.    ],\n",
       "       [0.    , 0.017 , 0.    , ..., 0.1   , 0.6   , 0.2   ],\n",
       "       [0.017 , 0.    , 0.0255, ..., 0.05  , 0.    , 0.7   ]])"
      ]
     },
     "metadata": {},
     "execution_count": 15
    }
   ],
   "source": [
    "O_complete = [[0.0 for col in range(19 * 3)] for row in range(19 * 3)]\n",
    "for x in range(19):\n",
    "    for s in range(3):\n",
    "        xs = x * 3 + s\n",
    "        # internal transitions\n",
    "        O_complete[xs][x * 3] = O_internal[s][0]\n",
    "        O_complete[xs][x * 3 + 1] = O_internal[s][1]\n",
    "        O_complete[xs][x * 3 + 2] = O_internal[s][2]\n",
    "        for y in range(19):\n",
    "            if y != x:\n",
    "                # external transitions\n",
    "                O_complete[xs][y * 3] = O_internal[s][3] * A_external[x][y]\n",
    "                O_complete[xs][y * 3 + 1] = O_internal[s][4] * A_external[x][y]\n",
    "                O_complete[xs][y * 3 + 2] = O_internal[s][5] * A_external[x][y]\n",
    "O_complete = np.array(O_complete)\n",
    "O_complete"
   ]
  },
  {
   "cell_type": "code",
   "execution_count": 17,
   "metadata": {},
   "outputs": [],
   "source": [
    "model.means_ = O_complete\n",
    "covar = 0.1 ** 323\n",
    "model.covars_ = np.tile([covar], 3 * 19)"
   ]
  },
  {
   "cell_type": "code",
   "execution_count": 18,
   "metadata": {},
   "outputs": [
    {
     "output_type": "execute_result",
     "data": {
      "text/plain": [
       "array([[ 0.85,  0.15, -0.  , ..., -0.  , -0.  ,  0.  ],\n",
       "       [ 0.  ,  0.  , -0.  , ..., -0.  , -0.  , -0.  ],\n",
       "       [ 0.  , -0.  , -0.  , ...,  0.  , -0.  ,  0.  ],\n",
       "       ...,\n",
       "       [-0.  , -0.  , -0.  , ..., -0.  , -0.  , -0.  ],\n",
       "       [-0.  , -0.  ,  0.  , ..., -0.  , -0.  , -0.  ],\n",
       "       [ 0.  ,  0.  ,  0.  , ..., -0.  , -0.  , -0.  ]])"
      ]
     },
     "metadata": {},
     "execution_count": 18
    }
   ],
   "source": [
    "X, Z = model.sample(1000)\n",
    "X = np.round(X, 8)\n",
    "X"
   ]
  },
  {
   "cell_type": "code",
   "execution_count": null,
   "metadata": {},
   "outputs": [],
   "source": [
    "def discrete_trace(trace):\n",
    "    new_trace = []\n",
    "    for i in range(len(trace)):\n",
    "        new_trace.append([])\n",
    "        probs = trace[i]\n",
    "        chosen = np.random.choice(len(probs), 1, p=probs)[0]\n",
    "        for j in range(len(probs)):\n",
    "            new_trace[i].append(1 if j == chosen else 0)\n",
    "    return new_trace"
   ]
  }
 ]
}