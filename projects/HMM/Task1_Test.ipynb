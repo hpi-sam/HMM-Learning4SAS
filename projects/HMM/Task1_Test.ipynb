{
 "metadata": {
  "language_info": {
   "codemirror_mode": {
    "name": "ipython",
    "version": 3
   },
   "file_extension": ".py",
   "mimetype": "text/x-python",
   "name": "python",
   "nbconvert_exporter": "python",
   "pygments_lexer": "ipython3",
   "version": "3.9.0-final"
  },
  "orig_nbformat": 2,
  "kernelspec": {
   "name": "python3",
   "display_name": "Python 3.9.0 64-bit",
   "metadata": {
    "interpreter": {
     "hash": "ac59ebe37160ed0dfa835113d9b8498d9f09ceb179beaac4002f036b9467c963"
    }
   }
  }
 },
 "nbformat": 4,
 "nbformat_minor": 2,
 "cells": [
  {
   "cell_type": "code",
   "execution_count": 2,
   "metadata": {},
   "outputs": [],
   "source": [
    "import numpy as np\n",
    "from hmmlearn import hmm"
   ]
  },
  {
   "cell_type": "code",
   "execution_count": 3,
   "metadata": {},
   "outputs": [],
   "source": [
    "np.random.seed(42)"
   ]
  },
  {
   "cell_type": "code",
   "execution_count": 4,
   "metadata": {},
   "outputs": [
    {
     "output_type": "execute_result",
     "data": {
      "text/plain": [
       "GaussianHMM(covariance_type='spherical', n_components=3)"
      ]
     },
     "metadata": {},
     "execution_count": 4
    }
   ],
   "source": [
    "model = hmm.GaussianHMM(n_components=3, covariance_type=\"spherical\")\n",
    "model"
   ]
  },
  {
   "source": [
    "model.startprob_ = np.array([0.6, 0.3, 0.1])\n",
    "model.transmat_ = np.array([[0.7, 0.2, 0.1], [0.3, 0.5, 0.2], [0.3, 0.3, 0.4]])"
   ],
   "cell_type": "code",
   "metadata": {},
   "execution_count": 9,
   "outputs": []
  },
  {
   "cell_type": "code",
   "execution_count": 22,
   "metadata": {},
   "outputs": [],
   "source": [
    "model.n_features = 3\n",
    "model.means_ = np.array([[1.0, 0.0, 0.0], [0.0, 1.0, 0.], [0.0, 0.0, 1.0]])\n",
    "covar = 0.1 ** 300\n",
    "model.covars_ = np.array([covar, covar, covar])"
   ]
  },
  {
   "cell_type": "code",
   "execution_count": 23,
   "metadata": {},
   "outputs": [],
   "source": [
    "X, Z = model.sample(10)"
   ]
  },
  {
   "cell_type": "code",
   "execution_count": 24,
   "metadata": {},
   "outputs": [
    {
     "output_type": "execute_result",
     "data": {
      "text/plain": [
       "array([[ 1.00000000e+000,  1.27365479e-151, -3.61422839e-151],\n",
       "       [ 1.00000000e+000, -6.50642569e-151, -4.87125384e-151],\n",
       "       [ 1.00000000e+000, -5.45169199e-151, -2.50275952e-150],\n",
       "       [ 6.84642202e-151, -2.38948047e-151,  1.00000000e+000],\n",
       "       [ 2.37324385e-151,  2.73577403e-151,  1.00000000e+000],\n",
       "       [-5.32580302e-151,  9.93323054e-152,  1.00000000e+000],\n",
       "       [ 9.33012140e-151,  1.00000000e+000, -5.64557003e-151],\n",
       "       [-1.00204672e-150,  1.00000000e+000,  4.80849467e-152],\n",
       "       [ 1.00000000e+000,  7.97736315e-151, -1.13914173e-150],\n",
       "       [ 1.00000000e+000, -6.51836108e-151,  4.73986713e-152]])"
      ]
     },
     "metadata": {},
     "execution_count": 24
    }
   ],
   "source": [
    "X"
   ]
  },
  {
   "cell_type": "code",
   "execution_count": 25,
   "metadata": {},
   "outputs": [
    {
     "output_type": "execute_result",
     "data": {
      "text/plain": [
       "array([0, 0, 0, 2, 2, 2, 1, 1, 0, 0])"
      ]
     },
     "metadata": {},
     "execution_count": 25
    }
   ],
   "source": [
    "Z"
   ]
  },
  {
   "cell_type": "code",
   "execution_count": null,
   "metadata": {},
   "outputs": [],
   "source": []
  }
 ]
}