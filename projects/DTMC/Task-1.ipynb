{
 "cells": [
  {
   "cell_type": "code",
   "execution_count": 1,
   "metadata": {},
   "outputs": [],
   "source": [
    "from sympy.stats import DiscreteMarkovChain, TransitionMatrixOf\n",
    "from sympy import Matrix, MatrixSymbol, Eq\n",
    "from sympy.stats import P"
   ]
  },
  {
   "cell_type": "code",
   "execution_count": 43,
   "metadata": {},
   "outputs": [
    {
     "data": {
      "text/latex": [
       "$\\displaystyle \\left[\\begin{array}{cccccc}M_{0, 0} & M_{0, 1} & M_{0, 2} & M_{0, 3} & M_{0, 4} & M_{0, 5}\\\\M_{1, 0} & M_{1, 1} & M_{1, 2} & M_{1, 3} & M_{1, 4} & M_{1, 5}\\\\M_{2, 0} & M_{2, 1} & M_{2, 2} & M_{2, 3} & M_{2, 4} & M_{2, 5}\\\\M_{3, 0} & M_{3, 1} & M_{3, 2} & M_{3, 3} & M_{3, 4} & M_{3, 5}\\\\M_{4, 0} & M_{4, 1} & M_{4, 2} & M_{4, 3} & M_{4, 4} & M_{4, 5}\\\\M_{5, 0} & M_{5, 1} & M_{5, 2} & M_{5, 3} & M_{5, 4} & M_{5, 5}\\end{array}\\right]$"
      ],
      "text/plain": [
       "Matrix([\n",
       "[M[0, 0], M[0, 1], M[0, 2], M[0, 3], M[0, 4], M[0, 5]],\n",
       "[M[1, 0], M[1, 1], M[1, 2], M[1, 3], M[1, 4], M[1, 5]],\n",
       "[M[2, 0], M[2, 1], M[2, 2], M[2, 3], M[2, 4], M[2, 5]],\n",
       "[M[3, 0], M[3, 1], M[3, 2], M[3, 3], M[3, 4], M[3, 5]],\n",
       "[M[4, 0], M[4, 1], M[4, 2], M[4, 3], M[4, 4], M[4, 5]],\n",
       "[M[5, 0], M[5, 1], M[5, 2], M[5, 3], M[5, 4], M[5, 5]]])"
      ]
     },
     "execution_count": 43,
     "metadata": {},
     "output_type": "execute_result"
    }
   ],
   "source": [
    "# Markov Matrix\n",
    "M = Matrix([\n",
    "    [0.15, 0.50, 0.25, 0.80, 0.00, 0.25],  # So1\n",
    "    [0.05, 0.25, 0.00, 0.00, 0.00, 0.00],  # Sd1\n",
    "    [0.00, 0.10, 0.50, 0.00, 0.00, 0.00],  # Su1\n",
    "    [0.80, 0.00, 0.00, 0.15, 0.50, 0.25],  # So2\n",
    "    [0.00, 0.15, 0.00, 0.05, 0.25, 0.00],  # Sd2\n",
    "    [0.00, 0.00, 0.25, 0.00, 0.25, 0.50]   # Su2\n",
    "])\n",
    "\n",
    "# make sure the cols sum up to 1\n",
    "for i in range(M.shape[1]):\n",
    "    assert sum(M.col(i)) == 1.0, 'Assertion failed for column {}, sum of probabilities is {}'.format(i, sum(M.col(i)))\n",
    "\n",
    "# Transpose the damn thing, because Sympy is row-dominant not col-dominant\n",
    "M = M.T\n",
    "    \n",
    "# symbol matrix representation of M\n",
    "MS = MatrixSymbol('M', M.shape[0], M.shape[1])\n",
    "Matrix(MS)\n",
    "\n",
    "    "
   ]
  },
  {
   "cell_type": "code",
   "execution_count": 44,
   "metadata": {},
   "outputs": [],
   "source": [
    "Y = DiscreteMarkovChain(\"Y\", [\"So1\", \"Sd1\", \"Su1\", \"So2\", \"Sd2\", \"Su2\"], M)\n",
    "\n",
    "# symbol Markov chain with symbol matrix for M (thus representing Y)\n",
    "YS = DiscreteMarkovChain(\"YS\")\n",
    "trans_YS = TransitionMatrixOf(YS, MS)"
   ]
  },
  {
   "cell_type": "code",
   "execution_count": 55,
   "metadata": {},
   "outputs": [
    {
     "data": {
      "text/latex": [
       "$\\displaystyle M_{0, 0}^{2} + M_{0, 1} M_{1, 0} + M_{0, 2} M_{2, 0} + M_{0, 3} M_{3, 0} + M_{0, 4} M_{4, 0} + M_{0, 5} M_{5, 0}$"
      ],
      "text/plain": [
       "M[0, 0]**2 + M[0, 1]*M[1, 0] + M[0, 2]*M[2, 0] + M[0, 3]*M[3, 0] + M[0, 4]*M[4, 0] + M[0, 5]*M[5, 0]"
      ]
     },
     "execution_count": 55,
     "metadata": {},
     "output_type": "execute_result"
    }
   ],
   "source": [
    "# formula: what is the\n",
    "# probability (P) \n",
    "# that being at state 1 at cycle 1 (Eq(YS[1], 1))\n",
    "# we will be at state 2 at cycle 3 (Eq (YS[3],2))\n",
    "P(Eq(YS[2], 0),( Eq(YS[0], 0) & trans_YS ) ) "
   ]
  },
  {
   "cell_type": "code",
   "execution_count": 63,
   "metadata": {},
   "outputs": [
    {
     "data": {
      "text/latex": [
       "$\\displaystyle 0.6875$"
      ],
      "text/plain": [
       "0.687500000000000"
      ]
     },
     "execution_count": 63,
     "metadata": {},
     "output_type": "execute_result"
    }
   ],
   "source": [
    "# actual execution of the formula (using not YS but Y)\n",
    "P(Eq(Y[2], 0), (Eq(YS[0], 0)))"
   ]
  },
  {
   "cell_type": "code",
   "execution_count": 65,
   "metadata": {},
   "outputs": [
    {
     "data": {
      "text/latex": [
       "$\\displaystyle 0.0003125$"
      ],
      "text/plain": [
       "0.000312500000000000"
      ]
     },
     "execution_count": 65,
     "metadata": {},
     "output_type": "execute_result"
    }
   ],
   "source": [
    "# Probability of going So1 -> Sd1 -> Su1 -> Su2 -> So1\n",
    "P(Eq(Y[4], 0) & Eq(Y[3], 5) & Eq(Y[2], 2) & Eq(Y[1], 1), Eq(Y[0], 0))"
   ]
  },
  {
   "cell_type": "code",
   "execution_count": 66,
   "metadata": {},
   "outputs": [
    {
     "data": {
      "text/latex": [
       "$\\displaystyle 0.95$"
      ],
      "text/plain": [
       "0.950000000000000"
      ]
     },
     "execution_count": 66,
     "metadata": {},
     "output_type": "execute_result"
    }
   ],
   "source": [
    "# Probability of being in So1 or So2 after being in So1\n",
    "P(Eq(Y[1],0) | Eq(Y[1], 3), Eq(Y[0], 0))"
   ]
  },
  {
   "cell_type": "code",
   "execution_count": 77,
   "metadata": {},
   "outputs": [
    {
     "data": {
      "text/latex": [
       "$\\displaystyle Probability\\left(Y[1] = 2 \\wedge \\left(Y[2] = 0 \\vee Y[2] = 2\\right)\\right)$"
      ],
      "text/plain": [
       "Probability(Eq(Y[1], 2) & (Eq(Y[2], 0) | Eq(Y[2], 2)))"
      ]
     },
     "execution_count": 77,
     "metadata": {},
     "output_type": "execute_result"
    }
   ],
   "source": [
    "P((Eq(Y[2], 0) | Eq(Y[2], 2)) & Eq(Y[1], 2))"
   ]
  },
  {
   "cell_type": "code",
   "execution_count": 94,
   "metadata": {},
   "outputs": [
    {
     "data": {
      "text/latex": [
       "$\\displaystyle Y[2] = 0 \\vee Y[2] = 2$"
      ],
      "text/plain": [
       "Eq(Y[2], 0) | Eq(Y[2], 2)"
      ]
     },
     "execution_count": 94,
     "metadata": {},
     "output_type": "execute_result"
    }
   ],
   "source": [
    "t = Eq(Y[2], 0) | Eq(Y[2], 2)\n",
    "t"
   ]
  },
  {
   "cell_type": "code",
   "execution_count": 133,
   "metadata": {},
   "outputs": [],
   "source": [
    "# state_progression_len = number of individual timesteps (cycles) used in the progression\n",
    "# if state trace is supposed to be without the starting point - just decrease state_progression_len by 1\n",
    "def evaluate(prob_func, state_progression_len):\n",
    "    \n",
    "    solutions = {\n",
    "        10: None,\n",
    "        20: None,\n",
    "        30: None\n",
    "    }\n",
    "    \n",
    "    s = 0\n",
    "    # loops 1 - 30 - progression length (inclusive latter val)\n",
    "    for i in range(1, 30 - (state_progression_len - 1)):\n",
    "        s += prob_func(i)\n",
    "        if (i + (state_progression_len)) in solutions.keys():\n",
    "            solutions[i + (state_progression_len)] = s.round(6)\n",
    "    return solutions"
   ]
  },
  {
   "cell_type": "code",
   "execution_count": 138,
   "metadata": {},
   "outputs": [],
   "source": [
    "def print_formatted(solution_dict):\n",
    "    for (stack_len, probability) in solution_dict.items():\n",
    "        print('Probability at stack trace length {} is {}'.format(stack_len, probability))"
   ]
  },
  {
   "cell_type": "markdown",
   "metadata": {},
   "source": [
    "## Questions"
   ]
  },
  {
   "cell_type": "code",
   "execution_count": 151,
   "metadata": {},
   "outputs": [],
   "source": [
    "# 1 What is the probability of seeing a failure cascade that affects only component 1?\n",
    "\n",
    "# never, because failure cascade is only possible if multiple components are affected"
   ]
  },
  {
   "cell_type": "code",
   "execution_count": 149,
   "metadata": {},
   "outputs": [
    {
     "name": "stdout",
     "output_type": "stream",
     "text": [
      "Probability at stack trace length 10 is 0.014277\n",
      "Probability at stack trace length 20 is 0.033100\n",
      "Probability at stack trace length 30 is 0.051962\n"
     ]
    }
   ],
   "source": [
    "# 2 What is the probability of seeing a failure cascade that affects both components 1 and 2?\n",
    "\n",
    "# failure cascades affection component 1 and 2: Sd1 -> Su1 -> Su2, Sd1 -> Sd2 -> Su2\n",
    "\n",
    "f = lambda i: P((Eq(Y[i+2], 5) & Eq(Y[i+1], 2) & Eq(Y[i], 1)) | (Eq(Y[i+2], 5) & Eq(Y[i+1], 4) & Eq(Y[i], 1)), Eq(Y[0], 0))\n",
    "print_formatted(evaluate(f, 3))"
   ]
  },
  {
   "cell_type": "code",
   "execution_count": 139,
   "metadata": {},
   "outputs": [
    {
     "name": "stdout",
     "output_type": "stream",
     "text": [
      "Probability at stack trace length 10 is 0.002088\n",
      "Probability at stack trace length 20 is 0.005865\n",
      "Probability at stack trace length 30 is 0.009638\n"
     ]
    }
   ],
   "source": [
    "# 3 What is the probability of seeing failure masking? (P(Su1; Su2; So1))\n",
    "\n",
    "f = lambda i:  P(Eq(Y[i+2], 0) & Eq(Y[i+1], 5) & Eq(Y[i+0], 2), Eq(Y[0], 0))\n",
    "print_formatted(evaluate(f, 3))"
   ]
  },
  {
   "cell_type": "code",
   "execution_count": 150,
   "metadata": {},
   "outputs": [
    {
     "name": "stdout",
     "output_type": "stream",
     "text": [
      "Probability at stack trace length 10 is 0.038619\n",
      "Probability at stack trace length 20 is 0.083963\n",
      "Probability at stack trace length 30 is 0.129235\n"
     ]
    }
   ],
   "source": [
    "# 4 What is the probability of seeing a systemic degradation? (P(Sd1 -> Sd2))\n",
    "\n",
    "f = lambda i: P(Eq(Y[i+1], 4) & Eq(Y[i], 1), Eq(Y[0], 0))\n",
    "print_formatted(evaluate(f, 2))"
   ]
  },
  {
   "cell_type": "code",
   "execution_count": 156,
   "metadata": {},
   "outputs": [],
   "source": [
    "# 5 What is the probability of normal operation?\n",
    "\n",
    "# normal operation = states So1 and So2 are chained together without interruption (allow duplicates)"
   ]
  },
  {
   "cell_type": "code",
   "execution_count": 155,
   "metadata": {},
   "outputs": [
    {
     "data": {
      "text/latex": [
       "$\\displaystyle 0.95$"
      ],
      "text/plain": [
       "0.950000000000000"
      ]
     },
     "execution_count": 155,
     "metadata": {},
     "output_type": "execute_result"
    }
   ],
   "source": [
    "# probability to stay in So1 or So2 if in So1:\n",
    "P(Eq(Y[1], 0) | Eq(Y[1], 3), Eq(Y[0], 0))"
   ]
  },
  {
   "cell_type": "code",
   "execution_count": 157,
   "metadata": {},
   "outputs": [
    {
     "data": {
      "text/latex": [
       "$\\displaystyle 0.95$"
      ],
      "text/plain": [
       "0.950000000000000"
      ]
     },
     "execution_count": 157,
     "metadata": {},
     "output_type": "execute_result"
    }
   ],
   "source": [
    "# probability to stay in So1 or So2 if in So2:\n",
    "P(Eq(Y[1], 0) | Eq(Y[1], 3), Eq(Y[0], 3))"
   ]
  },
  {
   "cell_type": "code",
   "execution_count": 158,
   "metadata": {},
   "outputs": [
    {
     "name": "stdout",
     "output_type": "stream",
     "text": [
      "Probability at stack trace length 10 is 0.5987369392383787\n",
      "Probability at stack trace length 20 is 0.3584859224085419\n",
      "Probability at stack trace length 30 is 0.21463876394293727\n"
     ]
    }
   ],
   "source": [
    "# => therefore, the probability to stay in only those two states is 0.95^(lenght of stack trace)\n",
    "print_formatted({cycles: pow(0.95, cycles) for cycles in [10, 20, 30]})"
   ]
  },
  {
   "cell_type": "code",
   "execution_count": 60,
   "metadata": {},
   "outputs": [],
   "source": [
    "# 6 What is the probability of having \n",
    "#    a) 1, \n",
    "#    b) 2, \n",
    "#    c) more\n",
    "# intermittent failures?\n",
    "\n",
    "# probability of getting exactly one intermittent failure:\n",
    "\n"
   ]
  },
  {
   "cell_type": "code",
   "execution_count": 170,
   "metadata": {},
   "outputs": [
    {
     "data": {
      "text/latex": [
       "$\\displaystyle 6.15234375 \\cdot 10^{-5}$"
      ],
      "text/plain": [
       "6.15234375000000e-5"
      ]
     },
     "execution_count": 170,
     "metadata": {},
     "output_type": "execute_result"
    }
   ],
   "source": [
    "# 7 In the case of an intermittent failure, what is the probability of a failure cascade? \n",
    "# interpretation is, that the failure cascade follows immediatly on the intermittent failure\n",
    "\n",
    "# can ignore the intermittent failure in component 2, as this component cannot cause a failure cascade\n",
    "\n",
    "P(((Eq(Y[5], 5) & Eq(Y[4], 2) & Eq(Y[3], 1)) | (Eq(Y[5], 5) & Eq(Y[4], 4) & Eq(Y[3], 1))) & Eq(Y[2], 0) & Eq(Y[1], 1), Eq(Y[0], 0))"
   ]
  },
  {
   "cell_type": "code",
   "execution_count": 175,
   "metadata": {},
   "outputs": [
    {
     "data": {
      "text/latex": [
       "$\\displaystyle 0.00625$"
      ],
      "text/plain": [
       "0.00625000000000000"
      ]
     },
     "execution_count": 175,
     "metadata": {},
     "output_type": "execute_result"
    }
   ],
   "source": [
    "# 8 In the case of a failure cascade, what is the probability of failure masking?\n",
    "# same as above, we assume an immidiatly following failure masking\n",
    "\n",
    "# there are two possible ways of failure cascade Sd1 -> Sd2 -> Su2 and Sd1 -> Su1 -> Su2\n",
    "# as failure masking is failing in one component, this cascading into another, \n",
    "# and then the other component returning to an operational state in the original component\n",
    "# only look at second cascading path Sd1 -> Su1 -> Su2\n",
    "\n",
    "P(Eq(Y[3], 0) & Eq(Y[2], 5) & Eq(Y[1], 2), Eq(Y[0], 1))\n"
   ]
  },
  {
   "cell_type": "code",
   "execution_count": 176,
   "metadata": {},
   "outputs": [
    {
     "data": {
      "text/latex": [
       "$\\displaystyle 7.8125 \\cdot 10^{-6}$"
      ],
      "text/plain": [
       "7.81250000000000e-6"
      ]
     },
     "execution_count": 176,
     "metadata": {},
     "output_type": "execute_result"
    }
   ],
   "source": [
    "# 9 (Extra) In the case of an intermittent failure, what is the probability of failure masking?\n",
    "# This case means that there is an intermittent failure (in component 1), followed by a failure cascade to Su2,\n",
    "# followed by failure masking:\n",
    "\n",
    "# So1 -> Sd1 -> So1 -> Sd1 -> Su1 -> Su2 -> So1\n",
    "\n",
    "P(Eq(Y[6], 0) & Eq(Y[5], 5) & Eq(Y[4], 2) & Eq(Y[3], 1) & Eq(Y[2], 0) & Eq(Y[1], 1), Eq(Y[0], 0))"
   ]
  },
  {
   "cell_type": "code",
   "execution_count": 179,
   "metadata": {},
   "outputs": [],
   "source": [
    "# this is not completetly equivalent to the product of probabilities from task 7 and 8, as we ignore the case \n",
    "# of failure cascading through Sd2, as this would not allow any failure masking to take place "
   ]
  },
  {
   "cell_type": "code",
   "execution_count": null,
   "metadata": {},
   "outputs": [],
   "source": []
  }
 ],
 "metadata": {
  "kernelspec": {
   "display_name": "Python 3",
   "language": "python",
   "name": "python3"
  },
  "language_info": {
   "codemirror_mode": {
    "name": "ipython",
    "version": 3
   },
   "file_extension": ".py",
   "mimetype": "text/x-python",
   "name": "python",
   "nbconvert_exporter": "python",
   "pygments_lexer": "ipython3",
   "version": "3.7.7"
  }
 },
 "nbformat": 4,
 "nbformat_minor": 4
}
