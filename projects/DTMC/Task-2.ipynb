{
 "cells": [
  {
   "cell_type": "code",
   "execution_count": 1,
   "metadata": {},
   "outputs": [],
   "source": [
    "from sympy.stats import DiscreteMarkovChain, TransitionMatrixOf\n",
    "from sympy import Matrix, MatrixSymbol, Eq\n",
    "from sympy.stats import P\n",
    "from sympy.core.symbol import Str"
   ]
  },
  {
   "cell_type": "code",
   "execution_count": 2,
   "outputs": [],
   "source": [
    "import pandas as pd\n",
    "import numpy as np\n"
   ],
   "metadata": {
    "collapsed": false,
    "pycharm": {
     "name": "#%%\n"
    }
   }
  },
  {
   "cell_type": "code",
   "execution_count": 3,
   "outputs": [
    {
     "data": {
      "text/plain": "    Caller ID                Source (Caller)                Target (Callee)  \\\n0           6         Authentication Service                  Query Service   \n1           7       Availability Item Filter             Region Item Filter   \n2           1            Bid and Buy Service                  Query Service   \n3           1            Bid and Buy Service            Persistence Service   \n4           1            Bid and Buy Service              Inventory Service   \n5           1            Bid and Buy Service         Authentication Service   \n6           8            Buy Now Item Filter       Availability Item Filter   \n7           9           Category Item Filter     Recommendation Item Filter   \n8          10            Comment Item Filter           Category Item Filter   \n9           5              Inventory Service                  Query Service   \n10          5              Inventory Service            Persistence Service   \n11          2        Item Management Service                  Query Service   \n12          2        Item Management Service            Persistence Service   \n13          2        Item Management Service         Authentication Service   \n14         11  Last Second Sales Item Filter         Past Sales Item Filter   \n15         12         Past Sales Item Filter            Buy Now Item Filter   \n16         13                  Query Service  Last Second Sales Item Filter   \n17         14     Recommendation Item Filter       Future Sales Item Filter   \n18         15             Region Item Filter  Seller Reputation Item Filter   \n19          3             Reputation Service                  Query Service   \n20          3             Reputation Service         Authentication Service   \n21          3             Reputation Service            Persistence Service   \n22         16  Seller Reputation Item Filter            Comment Item Filter   \n23          4        User Management Service                  Query Service   \n24          4        User Management Service            Persistence Service   \n25          4        User Management Service         Authentication Service   \n\n    Target ID  \n0          13  \n1          15  \n2          13  \n3          17  \n4           5  \n5           6  \n6           7  \n7          14  \n8           9  \n9          13  \n10         17  \n11         13  \n12         17  \n13          6  \n14         12  \n15          8  \n16         11  \n17         18  \n18         16  \n19         13  \n20          6  \n21         17  \n22         10  \n23         13  \n24         17  \n25          6  ",
      "text/html": "<div>\n<style scoped>\n    .dataframe tbody tr th:only-of-type {\n        vertical-align: middle;\n    }\n\n    .dataframe tbody tr th {\n        vertical-align: top;\n    }\n\n    .dataframe thead th {\n        text-align: right;\n    }\n</style>\n<table border=\"1\" class=\"dataframe\">\n  <thead>\n    <tr style=\"text-align: right;\">\n      <th></th>\n      <th>Caller ID</th>\n      <th>Source (Caller)</th>\n      <th>Target (Callee)</th>\n      <th>Target ID</th>\n    </tr>\n  </thead>\n  <tbody>\n    <tr>\n      <th>0</th>\n      <td>6</td>\n      <td>Authentication Service</td>\n      <td>Query Service</td>\n      <td>13</td>\n    </tr>\n    <tr>\n      <th>1</th>\n      <td>7</td>\n      <td>Availability Item Filter</td>\n      <td>Region Item Filter</td>\n      <td>15</td>\n    </tr>\n    <tr>\n      <th>2</th>\n      <td>1</td>\n      <td>Bid and Buy Service</td>\n      <td>Query Service</td>\n      <td>13</td>\n    </tr>\n    <tr>\n      <th>3</th>\n      <td>1</td>\n      <td>Bid and Buy Service</td>\n      <td>Persistence Service</td>\n      <td>17</td>\n    </tr>\n    <tr>\n      <th>4</th>\n      <td>1</td>\n      <td>Bid and Buy Service</td>\n      <td>Inventory Service</td>\n      <td>5</td>\n    </tr>\n    <tr>\n      <th>5</th>\n      <td>1</td>\n      <td>Bid and Buy Service</td>\n      <td>Authentication Service</td>\n      <td>6</td>\n    </tr>\n    <tr>\n      <th>6</th>\n      <td>8</td>\n      <td>Buy Now Item Filter</td>\n      <td>Availability Item Filter</td>\n      <td>7</td>\n    </tr>\n    <tr>\n      <th>7</th>\n      <td>9</td>\n      <td>Category Item Filter</td>\n      <td>Recommendation Item Filter</td>\n      <td>14</td>\n    </tr>\n    <tr>\n      <th>8</th>\n      <td>10</td>\n      <td>Comment Item Filter</td>\n      <td>Category Item Filter</td>\n      <td>9</td>\n    </tr>\n    <tr>\n      <th>9</th>\n      <td>5</td>\n      <td>Inventory Service</td>\n      <td>Query Service</td>\n      <td>13</td>\n    </tr>\n    <tr>\n      <th>10</th>\n      <td>5</td>\n      <td>Inventory Service</td>\n      <td>Persistence Service</td>\n      <td>17</td>\n    </tr>\n    <tr>\n      <th>11</th>\n      <td>2</td>\n      <td>Item Management Service</td>\n      <td>Query Service</td>\n      <td>13</td>\n    </tr>\n    <tr>\n      <th>12</th>\n      <td>2</td>\n      <td>Item Management Service</td>\n      <td>Persistence Service</td>\n      <td>17</td>\n    </tr>\n    <tr>\n      <th>13</th>\n      <td>2</td>\n      <td>Item Management Service</td>\n      <td>Authentication Service</td>\n      <td>6</td>\n    </tr>\n    <tr>\n      <th>14</th>\n      <td>11</td>\n      <td>Last Second Sales Item Filter</td>\n      <td>Past Sales Item Filter</td>\n      <td>12</td>\n    </tr>\n    <tr>\n      <th>15</th>\n      <td>12</td>\n      <td>Past Sales Item Filter</td>\n      <td>Buy Now Item Filter</td>\n      <td>8</td>\n    </tr>\n    <tr>\n      <th>16</th>\n      <td>13</td>\n      <td>Query Service</td>\n      <td>Last Second Sales Item Filter</td>\n      <td>11</td>\n    </tr>\n    <tr>\n      <th>17</th>\n      <td>14</td>\n      <td>Recommendation Item Filter</td>\n      <td>Future Sales Item Filter</td>\n      <td>18</td>\n    </tr>\n    <tr>\n      <th>18</th>\n      <td>15</td>\n      <td>Region Item Filter</td>\n      <td>Seller Reputation Item Filter</td>\n      <td>16</td>\n    </tr>\n    <tr>\n      <th>19</th>\n      <td>3</td>\n      <td>Reputation Service</td>\n      <td>Query Service</td>\n      <td>13</td>\n    </tr>\n    <tr>\n      <th>20</th>\n      <td>3</td>\n      <td>Reputation Service</td>\n      <td>Authentication Service</td>\n      <td>6</td>\n    </tr>\n    <tr>\n      <th>21</th>\n      <td>3</td>\n      <td>Reputation Service</td>\n      <td>Persistence Service</td>\n      <td>17</td>\n    </tr>\n    <tr>\n      <th>22</th>\n      <td>16</td>\n      <td>Seller Reputation Item Filter</td>\n      <td>Comment Item Filter</td>\n      <td>10</td>\n    </tr>\n    <tr>\n      <th>23</th>\n      <td>4</td>\n      <td>User Management Service</td>\n      <td>Query Service</td>\n      <td>13</td>\n    </tr>\n    <tr>\n      <th>24</th>\n      <td>4</td>\n      <td>User Management Service</td>\n      <td>Persistence Service</td>\n      <td>17</td>\n    </tr>\n    <tr>\n      <th>25</th>\n      <td>4</td>\n      <td>User Management Service</td>\n      <td>Authentication Service</td>\n      <td>6</td>\n    </tr>\n  </tbody>\n</table>\n</div>"
     },
     "execution_count": 3,
     "metadata": {},
     "output_type": "execute_result"
    }
   ],
   "source": [
    "df = pd.read_csv('data/mRubis_dependencies.csv')\n",
    "df"
   ],
   "metadata": {
    "collapsed": false,
    "pycharm": {
     "name": "#%%\n"
    }
   }
  },
  {
   "cell_type": "code",
   "execution_count": 4,
   "outputs": [],
   "source": [
    "combine_id_name = lambda id, name: (id, name)\n",
    "\n",
    "callers = df['Caller ID'].combine(df['Source (Caller)'], combine_id_name)\n",
    "targets = df['Target ID'].combine(df['Target (Callee)'], combine_id_name)"
   ],
   "metadata": {
    "collapsed": false,
    "pycharm": {
     "name": "#%%\n"
    }
   }
  },
  {
   "cell_type": "code",
   "execution_count": 5,
   "outputs": [
    {
     "data": {
      "text/plain": "[(1, 'Bid and Buy Service'),\n (2, 'Item Management Service'),\n (3, 'Reputation Service'),\n (4, 'User Management Service'),\n (5, 'Inventory Service'),\n (6, 'Authentication Service'),\n (7, 'Availability Item Filter'),\n (8, 'Buy Now Item Filter'),\n (9, 'Category Item Filter'),\n (10, 'Comment Item Filter'),\n (11, 'Last Second Sales Item Filter'),\n (12, 'Past Sales Item Filter'),\n (13, 'Query Service'),\n (14, 'Recommendation Item Filter'),\n (15, 'Region Item Filter'),\n (16, 'Seller Reputation Item Filter'),\n (17, 'Persistence Service'),\n (18, 'Future Sales Item Filter')]"
     },
     "execution_count": 5,
     "metadata": {},
     "output_type": "execute_result"
    }
   ],
   "source": [
    "components = (callers.append(targets)).unique().tolist()\n",
    "components.sort(key=lambda tup: tup[0])\n",
    "components"
   ],
   "metadata": {
    "collapsed": false,
    "pycharm": {
     "name": "#%%\n"
    }
   }
  },
  {
   "cell_type": "code",
   "execution_count": 6,
   "outputs": [],
   "source": [
    "# since floating point errors are a pain and need to be dealt with, just round every probability to 6 decimal places\n",
    "\n",
    "def round_probability(prob):\n",
    "    rounded = round(prob * 1000000)\n",
    "    return rounded / 1000000\n",
    "\n",
    "# also provide functionality to deal with any possible errors arising from the rounding\n",
    "\n",
    "def validate_component(Mat, comps, component_start_idx):\n",
    "    print('Component: {}'.format(comps[component_start_idx][1]))\n",
    "    for j in range(3):\n",
    "        row_idx = (3 * component_start_idx) + j\n",
    "        print('Row: {:02d}, Sum: {}, Equal to 1? {}'.format(row_idx, sum(Mat.row(row_idx)), sum(Mat.row(row_idx)) == 1))\n",
    "        if sum(Mat.row(row_idx)) != 1:\n",
    "            correct_row(Mat, component_start_idx, j)\n",
    "            print('Attempted to fix the row sum error. New Sum: {}, Equal to 1? {}'.format(sum(Mat.row(row_idx)), sum(Mat.row(row_idx)) == 1))\n",
    "\n",
    "def validate_matrix(Mat, comps):\n",
    "    for i in range(len(comps)):\n",
    "        print('Component: {}'.format(comps[i][1]))\n",
    "        for j in range(3):\n",
    "            row_idx = (3 * i) + j\n",
    "            print('Row: {:02d}, Sum: {}, Equal to 1? {}'.format(row_idx, sum(Mat.row(row_idx)), sum(Mat.row(row_idx)) == 1))\n",
    "            if sum(Mat.row(row_idx)) != 1:\n",
    "                correct_row(Mat, i, j)\n",
    "                print('Fixed the row sum error. Row sum now equal to {}'.format(sum(Mat.row(row_idx))))\n",
    "\n",
    "\n",
    "def correct_row(Mat, component_start_idx, state_idx):\n",
    "        row_idx = (3 * component_start_idx) + state_idx\n",
    "\n",
    "        if state_idx == 0:\n",
    "            # reduce the self-edge of the op state\n",
    "            Mat[(row_idx * 54) + (3 * component_start_idx)] = Mat[(row_idx * 54) + (3 * component_start_idx)] + (1 - sum(Mat.row(row_idx)))\n",
    "        elif state_idx == 1:\n",
    "            # reduce the self-edge of the dg state\n",
    "            Mat[(row_idx * 54) + (3 * component_start_idx) + 1] = Mat[(row_idx * 54) + (3 * component_start_idx) + 1] + (1 - sum(Mat.row(row_idx)))\n",
    "        elif state_idx == 2:\n",
    "            # reduce the self-edge of the ur state\n",
    "            Mat[(row_idx * 54) + (3 * component_start_idx) + 2] = Mat[(row_idx * 54) + (3 * component_start_idx) + 2] + (1 - sum(Mat.row(row_idx)))"
   ],
   "metadata": {
    "collapsed": false,
    "pycharm": {
     "name": "#%%\n"
    }
   }
  },
  {
   "cell_type": "code",
   "execution_count": 7,
   "outputs": [
    {
     "name": "stdout",
     "output_type": "stream",
     "text": [
      "Component: Bid and Buy Service\n",
      "Row: 00, Sum: 1.00000000000000, Equal to 1? True\n",
      "Row: 01, Sum: 1.00000000000000, Equal to 1? False\n",
      "Attempted to fix the row sum error. New Sum: 1.00000000000000, Equal to 1? True\n",
      "Row: 02, Sum: 1.00000000000000, Equal to 1? True\n",
      "Component: Item Management Service\n",
      "Row: 03, Sum: 1.00000100000000, Equal to 1? False\n",
      "Attempted to fix the row sum error. New Sum: 1.00000000000000, Equal to 1? True\n",
      "Row: 04, Sum: 1.00000000000000, Equal to 1? True\n",
      "Row: 05, Sum: 1.00000200000000, Equal to 1? False\n",
      "Attempted to fix the row sum error. New Sum: 1.00000000000000, Equal to 1? True\n",
      "Component: Reputation Service\n",
      "Row: 06, Sum: 1.00000100000000, Equal to 1? False\n",
      "Attempted to fix the row sum error. New Sum: 1.00000000000000, Equal to 1? True\n",
      "Row: 07, Sum: 1.00000000000000, Equal to 1? True\n",
      "Row: 08, Sum: 1.00000200000000, Equal to 1? False\n",
      "Attempted to fix the row sum error. New Sum: 1.00000000000000, Equal to 1? True\n",
      "Component: User Management Service\n",
      "Row: 09, Sum: 1.00000100000000, Equal to 1? False\n",
      "Attempted to fix the row sum error. New Sum: 1.00000000000000, Equal to 1? True\n",
      "Row: 10, Sum: 1.00000000000000, Equal to 1? True\n",
      "Row: 11, Sum: 1.00000200000000, Equal to 1? False\n",
      "Attempted to fix the row sum error. New Sum: 1.00000000000000, Equal to 1? True\n",
      "Component: Inventory Service\n",
      "Row: 12, Sum: 1.00000000000000, Equal to 1? True\n",
      "Row: 13, Sum: 1.00000000000000, Equal to 1? False\n",
      "Attempted to fix the row sum error. New Sum: 1.00000000000000, Equal to 1? True\n",
      "Row: 14, Sum: 1.00000000000000, Equal to 1? True\n",
      "Component: Authentication Service\n",
      "Row: 15, Sum: 1.00000000000000, Equal to 1? True\n",
      "Row: 16, Sum: 1.00000000000000, Equal to 1? True\n",
      "Row: 17, Sum: 1.00000000000000, Equal to 1? True\n",
      "Component: Availability Item Filter\n",
      "Row: 18, Sum: 1.00000000000000, Equal to 1? True\n",
      "Row: 19, Sum: 1.00000000000000, Equal to 1? True\n",
      "Row: 20, Sum: 1.00000000000000, Equal to 1? True\n",
      "Component: Buy Now Item Filter\n",
      "Row: 21, Sum: 1.00000000000000, Equal to 1? True\n",
      "Row: 22, Sum: 1.00000000000000, Equal to 1? True\n",
      "Row: 23, Sum: 1.00000000000000, Equal to 1? True\n",
      "Component: Category Item Filter\n",
      "Row: 24, Sum: 1.00000000000000, Equal to 1? True\n",
      "Row: 25, Sum: 1.00000000000000, Equal to 1? True\n",
      "Row: 26, Sum: 1.00000000000000, Equal to 1? True\n",
      "Component: Comment Item Filter\n",
      "Row: 27, Sum: 1.00000000000000, Equal to 1? True\n",
      "Row: 28, Sum: 1.00000000000000, Equal to 1? True\n",
      "Row: 29, Sum: 1.00000000000000, Equal to 1? True\n",
      "Component: Last Second Sales Item Filter\n",
      "Row: 30, Sum: 1.00000000000000, Equal to 1? True\n",
      "Row: 31, Sum: 1.00000000000000, Equal to 1? True\n",
      "Row: 32, Sum: 1.00000000000000, Equal to 1? True\n",
      "Component: Past Sales Item Filter\n",
      "Row: 33, Sum: 1.00000000000000, Equal to 1? True\n",
      "Row: 34, Sum: 1.00000000000000, Equal to 1? True\n",
      "Row: 35, Sum: 1.00000000000000, Equal to 1? True\n",
      "Component: Query Service\n",
      "Row: 36, Sum: 1.00000000000000, Equal to 1? True\n",
      "Row: 37, Sum: 1.00000000000000, Equal to 1? True\n",
      "Row: 38, Sum: 1.00000000000000, Equal to 1? True\n",
      "Component: Recommendation Item Filter\n",
      "Row: 39, Sum: 1.00000000000000, Equal to 1? True\n",
      "Row: 40, Sum: 1.00000000000000, Equal to 1? True\n",
      "Row: 41, Sum: 1.00000000000000, Equal to 1? True\n",
      "Component: Region Item Filter\n",
      "Row: 42, Sum: 1.00000000000000, Equal to 1? True\n",
      "Row: 43, Sum: 1.00000000000000, Equal to 1? True\n",
      "Row: 44, Sum: 1.00000000000000, Equal to 1? True\n",
      "Component: Seller Reputation Item Filter\n",
      "Row: 45, Sum: 1.00000000000000, Equal to 1? True\n",
      "Row: 46, Sum: 1.00000000000000, Equal to 1? True\n",
      "Row: 47, Sum: 1.00000000000000, Equal to 1? True\n",
      "Component: Persistence Service\n",
      "Row: 48, Sum: 1.00000030000000, Equal to 1? False\n",
      "Attempted to fix the row sum error. New Sum: 1.00000000000000, Equal to 1? True\n",
      "Row: 49, Sum: 1.00000000000000, Equal to 1? True\n",
      "Row: 50, Sum: 1.00000000000000, Equal to 1? True\n",
      "Component: Future Sales Item Filter\n",
      "Row: 51, Sum: 1.00000000000000, Equal to 1? True\n",
      "Row: 52, Sum: 1.00000000000000, Equal to 1? True\n",
      "Row: 53, Sum: 1.00000000000000, Equal to 1? True\n",
      "Component: Bid and Buy Service\n",
      "Row: 00, Sum: 1.00000000000000, Equal to 1? True\n",
      "Row: 01, Sum: 1.00000000000000, Equal to 1? True\n",
      "Row: 02, Sum: 1.00000000000000, Equal to 1? True\n",
      "Component: Item Management Service\n",
      "Row: 03, Sum: 1.00000000000000, Equal to 1? True\n",
      "Row: 04, Sum: 1.00000000000000, Equal to 1? True\n",
      "Row: 05, Sum: 1.00000000000000, Equal to 1? True\n",
      "Component: Reputation Service\n",
      "Row: 06, Sum: 1.00000000000000, Equal to 1? True\n",
      "Row: 07, Sum: 1.00000000000000, Equal to 1? True\n",
      "Row: 08, Sum: 1.00000000000000, Equal to 1? True\n",
      "Component: User Management Service\n",
      "Row: 09, Sum: 1.00000000000000, Equal to 1? True\n",
      "Row: 10, Sum: 1.00000000000000, Equal to 1? True\n",
      "Row: 11, Sum: 1.00000000000000, Equal to 1? True\n",
      "Component: Inventory Service\n",
      "Row: 12, Sum: 1.00000000000000, Equal to 1? True\n",
      "Row: 13, Sum: 1.00000000000000, Equal to 1? True\n",
      "Row: 14, Sum: 1.00000000000000, Equal to 1? True\n",
      "Component: Authentication Service\n",
      "Row: 15, Sum: 1.00000000000000, Equal to 1? True\n",
      "Row: 16, Sum: 1.00000000000000, Equal to 1? True\n",
      "Row: 17, Sum: 1.00000000000000, Equal to 1? True\n",
      "Component: Availability Item Filter\n",
      "Row: 18, Sum: 1.00000000000000, Equal to 1? True\n",
      "Row: 19, Sum: 1.00000000000000, Equal to 1? True\n",
      "Row: 20, Sum: 1.00000000000000, Equal to 1? True\n",
      "Component: Buy Now Item Filter\n",
      "Row: 21, Sum: 1.00000000000000, Equal to 1? True\n",
      "Row: 22, Sum: 1.00000000000000, Equal to 1? True\n",
      "Row: 23, Sum: 1.00000000000000, Equal to 1? True\n",
      "Component: Category Item Filter\n",
      "Row: 24, Sum: 1.00000000000000, Equal to 1? True\n",
      "Row: 25, Sum: 1.00000000000000, Equal to 1? True\n",
      "Row: 26, Sum: 1.00000000000000, Equal to 1? True\n",
      "Component: Comment Item Filter\n",
      "Row: 27, Sum: 1.00000000000000, Equal to 1? True\n",
      "Row: 28, Sum: 1.00000000000000, Equal to 1? True\n",
      "Row: 29, Sum: 1.00000000000000, Equal to 1? True\n",
      "Component: Last Second Sales Item Filter\n",
      "Row: 30, Sum: 1.00000000000000, Equal to 1? True\n",
      "Row: 31, Sum: 1.00000000000000, Equal to 1? True\n",
      "Row: 32, Sum: 1.00000000000000, Equal to 1? True\n",
      "Component: Past Sales Item Filter\n",
      "Row: 33, Sum: 1.00000000000000, Equal to 1? True\n",
      "Row: 34, Sum: 1.00000000000000, Equal to 1? True\n",
      "Row: 35, Sum: 1.00000000000000, Equal to 1? True\n",
      "Component: Query Service\n",
      "Row: 36, Sum: 1.00000000000000, Equal to 1? True\n",
      "Row: 37, Sum: 1.00000000000000, Equal to 1? True\n",
      "Row: 38, Sum: 1.00000000000000, Equal to 1? True\n",
      "Component: Recommendation Item Filter\n",
      "Row: 39, Sum: 1.00000000000000, Equal to 1? True\n",
      "Row: 40, Sum: 1.00000000000000, Equal to 1? True\n",
      "Row: 41, Sum: 1.00000000000000, Equal to 1? True\n",
      "Component: Region Item Filter\n",
      "Row: 42, Sum: 1.00000000000000, Equal to 1? True\n",
      "Row: 43, Sum: 1.00000000000000, Equal to 1? True\n",
      "Row: 44, Sum: 1.00000000000000, Equal to 1? True\n",
      "Component: Seller Reputation Item Filter\n",
      "Row: 45, Sum: 1.00000000000000, Equal to 1? True\n",
      "Row: 46, Sum: 1.00000000000000, Equal to 1? True\n",
      "Row: 47, Sum: 1.00000000000000, Equal to 1? True\n",
      "Component: Persistence Service\n",
      "Row: 48, Sum: 1.00000000000000, Equal to 1? True\n",
      "Row: 49, Sum: 1.00000000000000, Equal to 1? True\n",
      "Row: 50, Sum: 1.00000000000000, Equal to 1? True\n",
      "Component: Future Sales Item Filter\n",
      "Row: 51, Sum: 1.00000000000000, Equal to 1? True\n",
      "Row: 52, Sum: 1.00000000000000, Equal to 1? True\n",
      "Row: 53, Sum: 1.00000000000000, Equal to 1? True\n"
     ]
    }
   ],
   "source": [
    "# Markov Matrix\n",
    "\n",
    "# first, create matrix of size 18*3 x 18*3 (as there are 3 states for each component)\n",
    "# a row in this matrix corresponds to the outgoing edges/probabilities for one such internal state\n",
    "# each row must sum up to 1 in the end\n",
    "M = Matrix([\n",
    "    [0.00 for i in range(len(components) * 3)] for j in range(len(components) * 3)\n",
    "])\n",
    "\n",
    "# now insert the internal probabilities, for transitions bewteen the internal states\n",
    "\n",
    "# insert the probabilities for the outgoing edges from the operational states (first of three) to other internal states\n",
    "for i in range(len(components)):\n",
    "    # 3i * 54 leads us to the correct row, +3i to the correct column\n",
    "    idx = (3 * i * 54) + (3 * i)\n",
    "    M[idx] = round_probability(0.15)       # self-edge to operational state\n",
    "    M[idx + 1] = round_probability(0.05)   # edge to the degraded state\n",
    "    # remaining 80% are for external transitions and not assigned here\n",
    "\n",
    "# insert probabilities for the outgoing edges from degraded states (second of three) to other internal states\n",
    "for i in range(len(components)):\n",
    "    # 3i * 54 + 54 leads to the correct row, + 3i to the column of the operational state of the same component\n",
    "    idx = (3 * i * 54) + 54 + (3 * i)\n",
    "    M[idx] = round_probability(0.5)        # to operational state\n",
    "    M[idx + 1] = round_probability(0.25)   # self-edge to degraded state\n",
    "    M[idx + 2] = round_probability(0.10)   # to unresponsive state\n",
    "    # remaining 15% for external connections\n",
    "\n",
    "# insert probabilities for the outgoing edges from unresponsive states (last of three) to other internal states\n",
    "for i in range(len(components)):\n",
    "    # 3i * 54 + 2 * 54 leads to the correct row, + 3i to the column of the operational state of the same component\n",
    "    idx = (3 * i * 54) + (2 * 54) + (3 * i)\n",
    "    M[idx] = round_probability(0.25)       # return to operational state\n",
    "    M[idx + 2] = round_probability(0.5)    # stay in unresponsive state\n",
    "    # remaining 25% for external connections\n",
    "\n",
    "assert M.shape == (len(components)*3, len(components)*3), 'Markov Matrix has shape {}, but should have ({}, {})'.format(M.shape, len(components)*3, len(components)*3)\n",
    "\n",
    "####################### possible break for debugging purposes ###############################\n",
    "\n",
    "# next, calculate probabilities of a specific component transitioning to a different component\n",
    "# use component IDs for later convenience\n",
    "\n",
    "probs = Matrix([\n",
    "    [0.00 for i in range(len(components))] for j in range(len(components))\n",
    "])\n",
    "\n",
    "for i in range(len(components)):\n",
    "    # i+1 because the IDs start with 1, but i is starting at 0\n",
    "    connections = df[df['Caller ID'] == i+1]\n",
    "    for connection in connections.iterrows():\n",
    "        # connection indices:\n",
    "        #   0 -> connection index (useless)\n",
    "        #   1 -> Data\n",
    "        #        -> Caller ID\n",
    "        #        -> Source (Caller)\n",
    "        #        -> Target (Callee)\n",
    "        #        -> Target ID\n",
    "        # i*18 gets us into the correct row, Callee ID - 1 into the right column\n",
    "        probs[(i * 18) + (connection[1]['Target ID'] - 1)] = 1.0 / len(connections)\n",
    "\n",
    "####################### possible break for debugging purposes ###############################\n",
    "\n",
    "# now use the probabilities of a component having an outgoing edge to another component to fill out Markov Matrix\n",
    "\n",
    "# get dead end states - they get backward edges with 10% of the incoming probability, to not be sinks altogether\n",
    "dead_end_states = []\n",
    "\n",
    "for i in range(len(components)):\n",
    "    if sum(probs.row(i)) == 0.0:\n",
    "        dead_end_states.append(components[i][0])\n",
    "\n",
    "####################### possible break for debugging purposes ###############################\n",
    "\n",
    "# remember which nodes have connections to the dead end states for later use\n",
    "connections_to_dead_end = dict()\n",
    "\n",
    "# now do all outgoing edges for those components that are not dead ends first\n",
    "for i in range(len(components)):\n",
    "    if i + 1 in dead_end_states:\n",
    "        continue\n",
    "\n",
    "    op_row = 3 * i * 54\n",
    "    dg_row = op_row + 54\n",
    "    ur_row = op_row + (2 * 54)\n",
    "\n",
    "    op_free = 1 - sum(M.row(3 * i))\n",
    "    dg_free = 1 - sum(M.row((3 * i) + 1))\n",
    "    ur_free = 1 - sum(M.row((3 * i) + 2))\n",
    "\n",
    "    for j in range(len(components)):\n",
    "        if j == i:\n",
    "            # skip the self-edge, we already have that\n",
    "            continue\n",
    "        # set the operational state -> operational state connection\n",
    "        M[op_row + (3 * j)] = round_probability(probs[(i * len(components)) + j] * op_free)\n",
    "\n",
    "        # set the degraded -> degraded state connection\n",
    "        M[dg_row + ((3 * j) + 1)] = round_probability(probs[(i * len(components)) + j] * dg_free)\n",
    "\n",
    "        # set the unresponsive -> operational (half of free) and unresponsive -> unresponsive (half of free)  connections\n",
    "        M[ur_row + (3 * j)] = round_probability(probs[(i * len(components)) + j] * (ur_free * 0.5))\n",
    "        M[ur_row + ((3 * j) + 2)] = round_probability(probs[(i * len(components)) + j] * (ur_free * 0.5))\n",
    "\n",
    "        # if connections to a dead end state were made, remember them for later creation of the backward edges\n",
    "        # the unresponsive -> operational edge is not interesting as it is not\n",
    "        if (j + 1) in dead_end_states:\n",
    "            connections_to_dead_end[(i + 1, j + 1)] = [M[op_row + (3 * j)], M[dg_row + ((3 * j) + 1)], M[ur_row + (3 * j)], M[ur_row + ((3 * j) + 2)]]\n",
    "\n",
    "    validate_component(M, components, i)\n",
    "\n",
    "    assert sum(M.row(3 * i)) - 1.0 < 0.00000001, 'Sum of outgoing probabilities for the operational state of component {} was {}'.format(i+1, sum(M.row((3 * i))))\n",
    "    assert sum(M.row((3 * i) + 1)) - 1.0 < 0.00000001, 'Sum of outgoing probabilities for the degraded state of component {} was {}'.format(i+1, sum(M.row((3 * i) + 1)))\n",
    "    assert sum(M.row((3 * i) + 2)) - 1.0 < 0.00000001, 'Sum of outgoing probabilities for the unresponsive state of component {} was {}'.format(i+1, sum(M.row((3 * i) + 2)))\n",
    "\n",
    "####################### possible break for debugging purposes ###############################\n",
    "\n",
    "connections_to_dead_end = {k: v for (k, v) in connections_to_dead_end.items() if v != [0, 0, 0, 0]}\n",
    "\n",
    "####################### possible break for debugging purposes ###############################\n",
    "\n",
    "# create outgoing edges from the dead end states by adding backwards edges to their incoming ones with only a fraction\n",
    "# of the probability. The remaining probabilities are distributed on the internal edges\n",
    "\n",
    "# only the operational_de -> operational_src (regular operation) backwards edge is modeled. This decision is made due\n",
    "# to the system not intending an outgoing connection from the dead end states in the beginning, thus propagating errors\n",
    "# from them to any other state seems wrong\n",
    "\n",
    "prob_fraction = 0.3\n",
    "\n",
    "for i in dead_end_states:\n",
    "    idx = i - 1     # index always one lower due to the IDs starting @ 1\n",
    "\n",
    "    # the matrix row for the outgoing probabilities\n",
    "    op_row = 3 * idx * 54\n",
    "\n",
    "    # how large is the probability still required to be added to outgoing edges from the operational state?\n",
    "    op_free = 1 - sum(M.row(3 * idx))\n",
    "\n",
    "    # calculate the total of incoming probabilities for the operational state\n",
    "    total = 0\n",
    "    for (k, v) in connections_to_dead_end.items():\n",
    "        if k[1] != i:\n",
    "            continue\n",
    "        total += v[0]\n",
    "\n",
    "    # the total could be larger than 1.0 -> must ensure that the outgoing edges (prob_fraction * total) are within the\n",
    "    # free probability from the operational state\n",
    "    # if not, multiply all outgoing edges by 1 / ((prob_fraction * total) / op_free) to normalize to the maximum available probability\n",
    "    norm_factor = (1 / ((prob_fraction * total) / op_free)) if (prob_fraction * total) > op_free else 1\n",
    "\n",
    "    # add the backwards edges and remember their probability sum\n",
    "    prob_sum = 0\n",
    "    for (k, v) in connections_to_dead_end.items():\n",
    "        if k[1] != i:\n",
    "            continue\n",
    "\n",
    "        backwards_prob = v[0] * prob_fraction * norm_factor\n",
    "\n",
    "        # set the operational state -> operational state connection\n",
    "        M[op_row + (3 * (k[0] - 1))] = backwards_prob\n",
    "\n",
    "        prob_sum += backwards_prob\n",
    "\n",
    "    # if the normalization factor is not 1, the remaining free probabilities for outgoing edges from the operational\n",
    "    # state are fully depleted, however, if it is one there may be some more probabilities left that need distributing\n",
    "    if norm_factor == 1:\n",
    "        remainder = op_free - prob_sum\n",
    "        # get total of internal outgoing edges to distribute the remaining probabilities\n",
    "        op_self_edge_idx = (3 * idx * 54) + (3 * idx)\n",
    "        sum_internal = M[op_self_edge_idx] + M[op_self_edge_idx + 1] + M[op_self_edge_idx + 2]\n",
    "\n",
    "        # distribute\n",
    "        M[op_self_edge_idx] += round_probability((M[op_self_edge_idx] / sum_internal) * remainder)\n",
    "        M[op_self_edge_idx + 1] += round_probability((M[op_self_edge_idx + 1] / sum_internal) * remainder)\n",
    "        M[op_self_edge_idx + 2] += round_probability((M[op_self_edge_idx + 2] / sum_internal) * remainder)\n",
    "\n",
    "    # now also distribute the remaining probabilities of the degraded and unresponsive states to their internal connections\n",
    "    dg_remainder = 1 - sum(M.row((3 * idx) + 1))\n",
    "    ur_remainder = 1 - sum(M.row((3 * idx) + 2))\n",
    "\n",
    "    dg_op_edge_idx = (3 * idx * 54) + 54 + (3 * idx)\n",
    "    ur_op_edge_idx = (3 * idx * 54) + (2 * 54) + (3 * idx)\n",
    "\n",
    "    # totals\n",
    "    sum_internal_dg = M[dg_op_edge_idx] + M[dg_op_edge_idx + 1] + M[dg_op_edge_idx + 2]\n",
    "    sum_internal_ur = M[ur_op_edge_idx] + M[ur_op_edge_idx + 1] + M[ur_op_edge_idx + 2]\n",
    "\n",
    "    # distribute degraded\n",
    "    M[dg_op_edge_idx] += round_probability((M[dg_op_edge_idx] / sum_internal_dg) * dg_remainder)\n",
    "    M[dg_op_edge_idx + 1] += round_probability((M[dg_op_edge_idx + 1] / sum_internal_dg) * dg_remainder)\n",
    "    M[dg_op_edge_idx + 2] += round_probability((M[dg_op_edge_idx + 2] / sum_internal_dg) * dg_remainder)\n",
    "\n",
    "    # distribute unresponsive\n",
    "    M[ur_op_edge_idx] += (M[ur_op_edge_idx] / sum_internal_ur) * ur_remainder\n",
    "    M[ur_op_edge_idx + 1] += (M[ur_op_edge_idx + 1] / sum_internal_ur) * ur_remainder\n",
    "    M[ur_op_edge_idx + 2] += (M[ur_op_edge_idx + 2] / sum_internal_ur) * ur_remainder\n",
    "\n",
    "    validate_component(M, components, idx)\n",
    "\n",
    "    assert sum(M.row(3 * idx)) - 1.0 < 0.00000001, 'Sum of outgoing probabilities for the operational state of component {} was {}'.format(i, sum(M.row((3 * idx))))\n",
    "    assert sum(M.row((3 * idx) + 1)) - 1.0 < 0.00000001, 'Sum of outgoing probabilities for the degraded state of component {} was {}'.format(i, sum(M.row((3 * idx) + 1)))\n",
    "    assert sum(M.row((3 * idx) + 2)) - 1.0 < 0.00000001, 'Sum of outgoing probabilities for the unresponsive state of component {} was {}'.format(i, sum(M.row((3 * idx) + 2)))\n",
    "\n",
    "####################### possible break for debugging purposes ###############################\n",
    "\n",
    "# deal with any possible errors left in the matrix row sums (shouldn't be any, but just to be sure)\n",
    "validate_matrix(M, components)\n"
   ],
   "metadata": {
    "collapsed": false,
    "pycharm": {
     "name": "#%%\n"
    }
   }
  },
  {
   "cell_type": "code",
   "execution_count": 8,
   "metadata": {},
   "outputs": [],
   "source": [
    "# finally, we have the finished markov matrix\n",
    "# now, define the DTMC\n",
    "state_space = []\n",
    "for component in components:\n",
    "    state_space.extend([component[1] + ' op', component[1] + ' dg', component[1] + ' ur'])\n",
    "\n",
    "state_space = [Str(state) for state in state_space]\n",
    "\n",
    "\n",
    "Y = DiscreteMarkovChain('Y', state_space, M)"
   ]
  },
  {
   "cell_type": "code",
   "execution_count": 9,
   "outputs": [
    {
     "data": {
      "text/plain": "4/5",
      "text/latex": "$\\displaystyle \\frac{4}{5}$"
     },
     "execution_count": 9,
     "metadata": {},
     "output_type": "execute_result"
    }
   ],
   "source": [
    "P(Eq(Y[1], Str(\"Availability Item Filter op\")), Eq(Y[0], Str(\"Buy Now Item Filter op\")))\n"
   ],
   "metadata": {
    "collapsed": false,
    "pycharm": {
     "name": "#%%\n"
    }
   }
  },
  {
   "cell_type": "code",
   "execution_count": 10,
   "metadata": {},
   "outputs": [
    {
     "data": {
      "text/plain": "0.190000000000000",
      "text/latex": "$\\displaystyle 0.19$"
     },
     "execution_count": 10,
     "metadata": {},
     "output_type": "execute_result"
    }
   ],
   "source": [
    "P(Eq(Y[1], Str(\"Future Sales Item Filter dg\")), Eq(Y[0], Str(\"Future Sales Item Filter op\")))"
   ]
  },
  {
   "cell_type": "code",
   "execution_count": 35,
   "outputs": [],
   "source": [
    "def generate_stack_trace(state_space, transition_matrix, trace_length, start_state):\n",
    "    stack = []\n",
    "    transit_probs = [1.0]\n",
    "\n",
    "    nrows = transition_matrix.shape[0]\n",
    "    ncols = transition_matrix.shape[1]\n",
    "\n",
    "    prob_mat = dict()\n",
    "\n",
    "    for i in range(nrows):\n",
    "        probs = []\n",
    "        for j in range(ncols):\n",
    "            probs.append(transition_matrix[(i * ncols) + j])\n",
    "        prob_mat[state_space[i]] = probs\n",
    "\n",
    "    curr_state = start_state\n",
    "\n",
    "    while len(stack) < trace_length:\n",
    "        stack.append(curr_state)\n",
    "        next_state = np.random.choice(state_space, 1, p=prob_mat[curr_state])\n",
    "        transit_probs.append(prob_mat[curr_state][state_space.index(next_state[0])])\n",
    "        curr_state = next_state[0]\n",
    "\n",
    "    return stack, transit_probs"
   ],
   "metadata": {
    "collapsed": false,
    "pycharm": {
     "name": "#%%\n"
    }
   }
  },
  {
   "cell_type": "code",
   "execution_count": 36,
   "outputs": [],
   "source": [
    "trace, trace_probs = generate_stack_trace(state_space, M, 30, Str('Bid and Buy Service op'))"
   ],
   "metadata": {
    "collapsed": false,
    "pycharm": {
     "name": "#%%\n"
    }
   }
  },
  {
   "cell_type": "code",
   "execution_count": 42,
   "outputs": [
    {
     "name": "stdout",
     "output_type": "stream",
     "text": [
      "With 1.0 prob to state Bid and Buy Service op\n",
      "With 1/5 prob to state Query Service op\n",
      "With 4/5 prob to state Last Second Sales Item Filter op\n",
      "With 4/5 prob to state Past Sales Item Filter op\n",
      "With 4/5 prob to state Buy Now Item Filter op\n",
      "With 4/5 prob to state Availability Item Filter op\n",
      "With 4/5 prob to state Region Item Filter op\n",
      "With 4/5 prob to state Seller Reputation Item Filter op\n",
      "With 4/5 prob to state Comment Item Filter op\n",
      "With 4/5 prob to state Category Item Filter op\n",
      "With 0.150000000000000 prob to state Category Item Filter op\n",
      "With 0.150000000000000 prob to state Category Item Filter op\n",
      "With 4/5 prob to state Recommendation Item Filter op\n",
      "With 4/5 prob to state Future Sales Item Filter op\n",
      "With 0.190000000000000 prob to state Future Sales Item Filter dg\n",
      "With 0.588235000000000 prob to state Future Sales Item Filter op\n",
      "With 0.240000000000000 prob to state Recommendation Item Filter op\n",
      "With 4/5 prob to state Future Sales Item Filter op\n",
      "With 0.240000000000000 prob to state Recommendation Item Filter op\n",
      "With 4/5 prob to state Future Sales Item Filter op\n",
      "With 0.570000000000000 prob to state Future Sales Item Filter op\n",
      "With 0.570000000000000 prob to state Future Sales Item Filter op\n",
      "With 0.570000000000000 prob to state Future Sales Item Filter op\n",
      "With 0.240000000000000 prob to state Recommendation Item Filter op\n",
      "With 0.150000000000000 prob to state Recommendation Item Filter op\n",
      "With 4/5 prob to state Future Sales Item Filter op\n",
      "With 0.240000000000000 prob to state Recommendation Item Filter op\n",
      "With 4/5 prob to state Future Sales Item Filter op\n",
      "With 0.570000000000000 prob to state Future Sales Item Filter op\n",
      "With 0.570000000000000 prob to state Future Sales Item Filter op\n"
     ]
    }
   ],
   "source": [
    "for i in range(len(trace)):\n",
    "    print('With {} prob to state {}'.format(trace_probs[i], trace[i]))"
   ],
   "metadata": {
    "collapsed": false,
    "pycharm": {
     "name": "#%%\n"
    }
   }
  },
  {
   "cell_type": "code",
   "execution_count": null,
   "outputs": [],
   "source": [
    "\n"
   ],
   "metadata": {
    "collapsed": false,
    "pycharm": {
     "name": "#%%\n"
    }
   }
  }
 ],
 "metadata": {
  "kernelspec": {
   "display_name": "Python 3",
   "language": "python",
   "name": "python3"
  },
  "language_info": {
   "codemirror_mode": {
    "name": "ipython",
    "version": 3
   },
   "file_extension": ".py",
   "mimetype": "text/x-python",
   "name": "python",
   "nbconvert_exporter": "python",
   "pygments_lexer": "ipython3",
   "version": "3.7.7"
  }
 },
 "nbformat": 4,
 "nbformat_minor": 4
}