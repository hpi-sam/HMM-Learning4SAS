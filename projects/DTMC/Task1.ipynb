{
 "cells": [
  {
   "cell_type": "code",
   "execution_count": 4,
   "metadata": {},
   "outputs": [],
   "source": [
    "from sympy.stats import DiscreteMarkovChain, TransitionMatrixOf\n",
    "from sympy import Matrix, MatrixSymbol, Eq, Symbol\n",
    "from sympy.stats import P\n",
    "from math import floor"
   ]
  },
  {
   "cell_type": "code",
   "execution_count": 5,
   "metadata": {},
   "outputs": [
    {
     "output_type": "execute_result",
     "data": {
      "text/plain": [
       "Matrix([\n",
       "[0.15, 0.05,   0,  0.8,    0,    0],\n",
       "[ 0.5, 0.25, 0.1,    0, 0.15,    0],\n",
       "[0.25,    0, 0.5,    0,    0, 0.25],\n",
       "[ 0.8,    0,   0, 0.15, 0.05,    0],\n",
       "[   0,    0,   0,  0.5, 0.25, 0.25],\n",
       "[0.25,    0,   0, 0.25,    0,  0.5]])"
      ],
      "text/latex": "$\\displaystyle \\left[\\begin{matrix}0.15 & 0.05 & 0 & 0.8 & 0 & 0\\\\0.5 & 0.25 & 0.1 & 0 & 0.15 & 0\\\\0.25 & 0 & 0.5 & 0 & 0 & 0.25\\\\0.8 & 0 & 0 & 0.15 & 0.05 & 0\\\\0 & 0 & 0 & 0.5 & 0.25 & 0.25\\\\0.25 & 0 & 0 & 0.25 & 0 & 0.5\\end{matrix}\\right]$"
     },
     "metadata": {},
     "execution_count": 5
    }
   ],
   "source": [
    "T = Matrix([[0.15, 0.05, 0, 0.8, 0, 0], [0.5, 0.25, 0.1, 0, 0.15, 0], [0.25, 0, 0.5, 0, 0, 0.25], [0.8, 0, 0, 0.15, 0.05, 0], [0, 0, 0, 0.5, 0.25, 0.25], [0.25, 0, 0, 0.25, 0, 0.5]])\n",
    "T"
   ]
  },
  {
   "cell_type": "code",
   "execution_count": 6,
   "metadata": {},
   "outputs": [
    {
     "output_type": "execute_result",
     "data": {
      "text/plain": [
       "DiscreteMarkovChain(Y, (0, 1, 2, 3, 4, 5), Matrix([\n",
       "[0.15, 0.05,   0,  0.8,    0,    0],\n",
       "[ 0.5, 0.25, 0.1,    0, 0.15,    0],\n",
       "[0.25,    0, 0.5,    0,    0, 0.25],\n",
       "[ 0.8,    0,   0, 0.15, 0.05,    0],\n",
       "[   0,    0,   0,  0.5, 0.25, 0.25],\n",
       "[0.25,    0,   0, 0.25,    0,  0.5]]))"
      ],
      "text/latex": "$\\displaystyle DiscreteMarkovChain\\left(Y, \\left( 0, \\  1, \\  2, \\  3, \\  4, \\  5\\right), \\left[\\begin{matrix}0.15 & 0.05 & 0 & 0.8 & 0 & 0\\\\0.5 & 0.25 & 0.1 & 0 & 0.15 & 0\\\\0.25 & 0 & 0.5 & 0 & 0 & 0.25\\\\0.8 & 0 & 0 & 0.15 & 0.05 & 0\\\\0 & 0 & 0 & 0.5 & 0.25 & 0.25\\\\0.25 & 0 & 0 & 0.25 & 0 & 0.5\\end{matrix}\\right]\\right)$"
     },
     "metadata": {},
     "execution_count": 6
    }
   ],
   "source": [
    "Y = DiscreteMarkovChain(\"Y\", [0, 1, 2, 3, 4, 5], T)\n",
    "Y"
   ]
  },
  {
   "cell_type": "code",
   "execution_count": 7,
   "metadata": {},
   "outputs": [
    {
     "output_type": "execute_result",
     "data": {
      "text/plain": [
       "DiscreteMarkovChain(YS, Range(0, _n, 1), _T)"
      ],
      "text/latex": "$\\displaystyle DiscreteMarkovChain\\left(YS, Range\\left(0, n, 1\\right), _T\\right)$"
     },
     "metadata": {},
     "execution_count": 7
    }
   ],
   "source": [
    "YS = DiscreteMarkovChain(\"YS\") #initializes an empty markov chain with symbolic name YS\n",
    "YS"
   ]
  },
  {
   "cell_type": "code",
   "execution_count": 8,
   "metadata": {},
   "outputs": [
    {
     "output_type": "execute_result",
     "data": {
      "text/plain": [
       "Matrix([\n",
       "[T[0, 0], T[0, 1], T[0, 2], T[0, 3], T[0, 4], T[0, 5]],\n",
       "[T[1, 0], T[1, 1], T[1, 2], T[1, 3], T[1, 4], T[1, 5]],\n",
       "[T[2, 0], T[2, 1], T[2, 2], T[2, 3], T[2, 4], T[2, 5]],\n",
       "[T[3, 0], T[3, 1], T[3, 2], T[3, 3], T[3, 4], T[3, 5]],\n",
       "[T[4, 0], T[4, 1], T[4, 2], T[4, 3], T[4, 4], T[4, 5]],\n",
       "[T[5, 0], T[5, 1], T[5, 2], T[5, 3], T[5, 4], T[5, 5]]])"
      ],
      "text/latex": "$\\displaystyle \\left[\\begin{array}{cccccc}T_{0, 0} & T_{0, 1} & T_{0, 2} & T_{0, 3} & T_{0, 4} & T_{0, 5}\\\\T_{1, 0} & T_{1, 1} & T_{1, 2} & T_{1, 3} & T_{1, 4} & T_{1, 5}\\\\T_{2, 0} & T_{2, 1} & T_{2, 2} & T_{2, 3} & T_{2, 4} & T_{2, 5}\\\\T_{3, 0} & T_{3, 1} & T_{3, 2} & T_{3, 3} & T_{3, 4} & T_{3, 5}\\\\T_{4, 0} & T_{4, 1} & T_{4, 2} & T_{4, 3} & T_{4, 4} & T_{4, 5}\\\\T_{5, 0} & T_{5, 1} & T_{5, 2} & T_{5, 3} & T_{5, 4} & T_{5, 5}\\end{array}\\right]$"
     },
     "metadata": {},
     "execution_count": 8
    }
   ],
   "source": [
    "TS = MatrixSymbol('T', 6, 6)\n",
    "Matrix(TS)"
   ]
  },
  {
   "cell_type": "code",
   "execution_count": 9,
   "metadata": {},
   "outputs": [],
   "source": [
    "trans_of_YS = TransitionMatrixOf(YS, TS) #Associates to Markov Chain YS the transition matrix TS"
   ]
  },
  {
   "cell_type": "code",
   "execution_count": 10,
   "metadata": {},
   "outputs": [
    {
     "output_type": "execute_result",
     "data": {
      "text/plain": [
       "T[0, 3]"
      ],
      "text/latex": "$\\displaystyle T_{0, 3}$"
     },
     "metadata": {},
     "execution_count": 10
    }
   ],
   "source": [
    "P(Eq(YS[1], 3), (Eq(YS[0], 0) & trans_of_YS)) # test to see if it works"
   ]
  },
  {
   "cell_type": "code",
   "execution_count": 11,
   "metadata": {},
   "outputs": [
    {
     "output_type": "execute_result",
     "data": {
      "text/plain": [
       "0.80"
      ],
      "text/latex": "$\\displaystyle 0.8$"
     },
     "metadata": {},
     "execution_count": 11
    }
   ],
   "source": [
    "P(Eq(Y[1], 3), Eq(Y[0], 0)).round(2) # test to see if it works"
   ]
  },
  {
   "cell_type": "code",
   "execution_count": 12,
   "metadata": {},
   "outputs": [
    {
     "output_type": "execute_result",
     "data": {
      "text/plain": [
       "0.64"
      ],
      "text/latex": "$\\displaystyle 0.64$"
     },
     "metadata": {},
     "execution_count": 12
    }
   ],
   "source": [
    "P(Eq(Y[2], 3) & Eq(Y[3], 0), Eq(Y[1], 0)).round(2) # test to see if it works"
   ]
  },
  {
   "cell_type": "code",
   "execution_count": 13,
   "metadata": {},
   "outputs": [
    {
     "output_type": "execute_result",
     "data": {
      "text/plain": [
       "T[0, 1]*T[1, 2]"
      ],
      "text/latex": "$\\displaystyle T_{0, 1} T_{1, 2}$"
     },
     "metadata": {},
     "execution_count": 13
    }
   ],
   "source": [
    "P((Eq(YS[1], 1) & Eq(YS[2], 2)), (Eq(YS[0], 0) & trans_of_YS))"
   ]
  },
  {
   "cell_type": "code",
   "execution_count": 14,
   "metadata": {},
   "outputs": [],
   "source": [
    "def eval(p, l):\n",
    "    s = 0\n",
    "    for x in range(0, 30 - l + 1):\n",
    "        s += p(x) # probability that it happens at exactly step x\n",
    "        if x == 10 - l:\n",
    "            print(\"10: \", s.round(4))\n",
    "        if x == 20 - l:\n",
    "            print(\"20: \", s.round(4))\n",
    "    print(\"30: \", s.round(4))"
   ]
  },
  {
   "cell_type": "code",
   "execution_count": 15,
   "metadata": {},
   "outputs": [
    {
     "output_type": "execute_result",
     "data": {
      "text/plain": [
       "0"
      ],
      "text/latex": "$\\displaystyle 0$"
     },
     "metadata": {},
     "execution_count": 15
    }
   ],
   "source": [
    "P((Eq(Y[0], 1) & Eq(Y[1], 2) & Eq(Y[2], 5)) | (Eq(Y[0], 1) & Eq(Y[1], 4) & Eq(Y[2], 5)), Eq(YS[0], 0))"
   ]
  },
  {
   "source": [
    "p1 = lambda x : P((Eq(Y[x], 1) & Eq(Y[x + 1], 2)), Eq(YS[0], 0))\n",
    "eval(p1, 1)\n",
    "# solution for question 1"
   ],
   "cell_type": "code",
   "metadata": {},
   "execution_count": 16,
   "outputs": [
    {
     "output_type": "stream",
     "name": "stdout",
     "text": [
      "10:  0.0288\n",
      "20:  0.0590\n",
      "30:  0.0892\n"
     ]
    }
   ]
  },
  {
   "cell_type": "code",
   "execution_count": 17,
   "metadata": {},
   "outputs": [
    {
     "output_type": "execute_result",
     "data": {
      "text/plain": [
       "T[0, 1]*T[1, 2]*T[2, 5] + T[0, 1]*T[1, 4]*T[4, 5]"
      ],
      "text/latex": "$\\displaystyle T_{0, 1} T_{1, 2} T_{2, 5} + T_{0, 1} T_{1, 4} T_{4, 5}$"
     },
     "metadata": {},
     "execution_count": 17
    }
   ],
   "source": [
    "P((Eq(YS[1], 1) & Eq(YS[2], 2) & Eq(YS[3], 5)) | (Eq(YS[1], 1) & Eq(YS[2], 4) & Eq(YS[3], 5)), (Eq(YS[0], 0) & trans_of_YS))"
   ]
  },
  {
   "cell_type": "code",
   "execution_count": 18,
   "metadata": {},
   "outputs": [
    {
     "output_type": "execute_result",
     "data": {
      "text/plain": [
       "0.0250000000000000"
      ],
      "text/latex": "$\\displaystyle 0.025$"
     },
     "metadata": {},
     "execution_count": 18
    }
   ],
   "source": [
    "P(Eq(Y[0], 0) & Eq(Y[1], 1) & Eq(Y[2], 0), Eq(YS[0], 0))"
   ]
  },
  {
   "cell_type": "code",
   "execution_count": 19,
   "metadata": {},
   "outputs": [
    {
     "output_type": "stream",
     "name": "stdout",
     "text": [
      "10:  0.0161\n",
      "20:  0.0350\n",
      "30:  0.0538\n"
     ]
    }
   ],
   "source": [
    "p2 = lambda x : P((Eq(Y[x], 1) & Eq(Y[x + 1], 2) & Eq(Y[x + 2], 5)) | (Eq(Y[x], 1) & Eq(Y[x + 1], 4) & Eq(Y[x + 2], 5)), Eq(YS[0], 0))\n",
    "eval(p2, 2)\n",
    "# solution for question 2"
   ]
  },
  {
   "cell_type": "code",
   "execution_count": 20,
   "metadata": {},
   "outputs": [
    {
     "output_type": "execute_result",
     "data": {
      "text/plain": [
       "T[0, 2]*T[2, 5]*T[5, 0]"
      ],
      "text/latex": "$\\displaystyle T_{0, 2} T_{2, 5} T_{5, 0}$"
     },
     "metadata": {},
     "execution_count": 20
    }
   ],
   "source": [
    "P(Eq(YS[1], 2) & Eq(YS[2], 5) & Eq(YS[3], 0), Eq(Y[0], 0) & trans_of_YS)"
   ]
  },
  {
   "cell_type": "code",
   "execution_count": 21,
   "metadata": {},
   "outputs": [
    {
     "output_type": "stream",
     "name": "stdout",
     "text": [
      "10:  0.0025\n",
      "20:  0.0062\n",
      "30:  0.0100\n"
     ]
    }
   ],
   "source": [
    "p3 = lambda x : P(Eq(Y[x], 2) & Eq(Y[x + 1], 5) & Eq(Y[x + 2], 0), Eq(YS[0], 0))\n",
    "eval(p3, 2)\n",
    "# solution for question 3"
   ]
  },
  {
   "cell_type": "code",
   "execution_count": 22,
   "metadata": {},
   "outputs": [
    {
     "output_type": "execute_result",
     "data": {
      "text/plain": [
       "T[0, 1]*T[1, 4]"
      ],
      "text/latex": "$\\displaystyle T_{0, 1} T_{1, 4}$"
     },
     "metadata": {},
     "execution_count": 22
    }
   ],
   "source": [
    "P(Eq(YS[1], 1) & Eq(YS[2], 4), Eq(Y[0], 0) & trans_of_YS)"
   ]
  },
  {
   "cell_type": "code",
   "execution_count": 23,
   "metadata": {},
   "outputs": [
    {
     "output_type": "stream",
     "name": "stdout",
     "text": [
      "10:  0.0433\n",
      "20:  0.0885\n",
      "30:  0.1338\n"
     ]
    }
   ],
   "source": [
    "p4 = lambda x : P(Eq(Y[x], 1) & Eq(Y[x + 1], 4), Eq(YS[0], 0))\n",
    "eval(p4, 1)\n",
    "# solution for question 4"
   ]
  },
  {
   "cell_type": "code",
   "execution_count": 24,
   "metadata": {},
   "outputs": [
    {
     "output_type": "stream",
     "name": "stdout",
     "text": [
      "10: 0.107374182400000\n",
      "20: 0.0115292150460685\n",
      "30: 0.00123794003928538\n"
     ]
    }
   ],
   "source": [
    "p5 = lambda x: Eq(Y[x], 0) & Eq(Y[x + 1], 3) & Eq(Y[x + 2], 0)\n",
    "st = p5(0)\n",
    "for x in range(2, 30, 2):\n",
    "    st = st & p5(x)\n",
    "    if x == 8:\n",
    "        print(\"10:\", P(st, Eq(YS[0], 0)))\n",
    "    if x == 18:\n",
    "        print(\"20:\", P(st, Eq(YS[0], 0)))\n",
    "print(\"30:\", P(st, Eq(YS[0], 0)))\n",
    "# solution for question 5, assuming no self-loops"
   ]
  },
  {
   "cell_type": "code",
   "execution_count": 25,
   "metadata": {},
   "outputs": [
    {
     "output_type": "stream",
     "name": "stdout",
     "text": [
      "10: 0.5987369392383787\n20: 0.3584859224085419\n30: 0.21463876394293727\n"
     ]
    }
   ],
   "source": [
    "# p5_2 = lambda x: Eq(Y[x], 0) | Eq(Y[x], 3)\n",
    "# P(p5_2(0) & p5_2(1), Eq(YS[0], 0))\n",
    "#P((Eq(Y[0], 0) | Eq(Y[0], 3)) & (Eq(Y[1], 0) | Eq(Y[1], 3)), Eq(YS[0], 0))\n",
    "print(\"10:\", 0.95 ** 10)\n",
    "print(\"20:\", 0.95 ** 20)\n",
    "print(\"30:\", 0.95 ** 30)\n",
    "# solution for question 5, assuming self-loops"
   ]
  },
  {
   "cell_type": "code",
   "execution_count": 26,
   "metadata": {},
   "outputs": [],
   "source": [
    "p6 = lambda x: P((Eq(Y[x], 0) & Eq(Y[x + 1], 1) & Eq(Y[x + 2], 0)) | (Eq(Y[x], 3) & Eq(Y[x + 1], 4) & Eq(Y[x + 2], 3)), Eq(YS[0], 0))"
   ]
  },
  {
   "cell_type": "code",
   "execution_count": 27,
   "metadata": {},
   "outputs": [],
   "source": [
    "p6a = [-1] * 30\n",
    "def p6f(x):\n",
    "    if p6a[x] > -1:\n",
    "        return p6a[x]\n",
    "    p6a[x] = p6(x)\n",
    "    return p6a[x]"
   ]
  },
  {
   "cell_type": "code",
   "execution_count": 28,
   "metadata": {},
   "outputs": [],
   "source": [
    "ifa = [[-1 for col in range(4)] for row in range(31)]\n",
    "def intermittent_failure(b, e, c):\n",
    "    if b == 0 and ifa[e][c] > -1:\n",
    "        return ifa[e][c]\n",
    "    if (b + 1 >= e) or (c >= e - b):\n",
    "        return 0\n",
    "    s = 0.0\n",
    "    for x in range(b, e - 1):\n",
    "        p = p6f(x)\n",
    "        if c == 1:\n",
    "            s += p\n",
    "        else:\n",
    "            s += p * intermittent_failure(b + 2, e, c - 1) # prob of getting a failure at step x and getting c - 1 intermittent failures afterwards\n",
    "    if b == 0:\n",
    "        ifa[e][c] = s\n",
    "    return s"
   ]
  },
  {
   "cell_type": "code",
   "execution_count": 29,
   "metadata": {
    "tags": []
   },
   "outputs": [
    {
     "output_type": "stream",
     "name": "stdout",
     "text": [
      "chance of exactly 1 failure in 10 steps: 0.1750970\nchance of exactly 2 failures in 10 steps: 0.0294780\nchance of 3 or more failures in 10 steps: 0.0037744\nchance of exactly 1 failure in 20 steps: 0.2669705\nchance of exactly 2 failures in 20 steps: 0.1108432\nchance of 3 or more failures in 20 steps: 0.0571264\nchance of exactly 1 failure in 30 steps: 0.2561585\nchance of exactly 2 failures in 30 steps: 0.1756517\nchance of 3 or more failures in 30 steps: 0.2297167\n"
     ]
    }
   ],
   "source": [
    "for i in [10, 20, 30]:\n",
    "    for j in range(1, 4):\n",
    "        intermittent_failure(0, i, j)\n",
    "for i in [10, 20, 30]:\n",
    "    print(\"chance of exactly 1 failure in\", i, \"steps:\", round(ifa[i][1] - ifa[i][2], 7))\n",
    "    print(\"chance of exactly 2 failures in\", i, \"steps:\", round(ifa[i][2] - ifa[i][3], 7))\n",
    "    print(\"chance of 3 or more failures in\", i, \"steps:\", round(ifa[i][3], 7))\n",
    "# solution for question 6"
   ]
  },
  {
   "cell_type": "code",
   "execution_count": 54,
   "metadata": {},
   "outputs": [
    {
     "output_type": "execute_result",
     "data": {
      "text/plain": [
       "0.225000000000000"
      ],
      "text/latex": "$\\displaystyle 0.225$"
     },
     "metadata": {},
     "execution_count": 54
    }
   ],
   "source": [
    "# If an intermittent failure happened, we are in state 1 or 4 (where we were before does not matter due to memorylessness)\n",
    "# The core aspect of a failure cascade here is considered to be either going to one of the unresponsive states immediately, or going to the other degrtaded state becoming unresponsive\n",
    "p7 = Eq(Y[1], 2) | Eq(Y[1], 5) | (Eq(Y[1], 4) & Eq(Y[2], 5))\n",
    "p7a = P(p7, Eq(YS[0], 1)) # prob when starting in state 1\n",
    "p7b = P(p7, Eq(YS[0], 4)) # prob when starting in state 4\n",
    "# In order to get the actual probability, we take the average\n",
    "(p7a + p7b) / 2"
   ]
  },
  {
   "cell_type": "code",
   "execution_count": 61,
   "metadata": {},
   "outputs": [
    {
     "output_type": "execute_result",
     "data": {
      "text/plain": [
       "0.0312500000000000"
      ],
      "text/latex": "$\\displaystyle 0.03125$"
     },
     "metadata": {},
     "execution_count": 61
    }
   ],
   "source": [
    "# If a failure cascade happened, we are in state 2 or 5 (where we were before does not matter due to memorylessness)\n",
    "# The core aspect of a failure cascade is considered to be the transition from states 2 -> 5 -> 0\n",
    "p8 = Eq(Y[0], 2) & Eq(Y[1], 5) & Eq(Y[2], 0)\n",
    "p8a = P(p8, Eq(YS[0], 2)) # prob when starting in state 2\n",
    "p8b = P(p8, Eq(YS[0], 5)) # prob when starting in state 5 (specifically, when we start in state 5 from a failure cascade there is actually no way to directly accomplish failure masking)\n",
    "# In order to get the actual probability, we take the average\n",
    "(p8a + p8b) / 2"
   ]
  }
 ],
 "metadata": {
  "kernelspec": {
   "name": "python3",
   "display_name": "Python 3.9.0 64-bit",
   "metadata": {
    "interpreter": {
     "hash": "ac59ebe37160ed0dfa835113d9b8498d9f09ceb179beaac4002f036b9467c963"
    }
   }
  },
  "language_info": {
   "codemirror_mode": {
    "name": "ipython",
    "version": 3
   },
   "file_extension": ".py",
   "mimetype": "text/x-python",
   "name": "python",
   "nbconvert_exporter": "python",
   "pygments_lexer": "ipython3",
   "version": "3.9.0-final"
  }
 },
 "nbformat": 4,
 "nbformat_minor": 4
}