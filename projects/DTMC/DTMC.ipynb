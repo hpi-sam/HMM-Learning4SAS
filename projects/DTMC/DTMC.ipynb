{
 "cells": [
  {
   "cell_type": "code",
   "execution_count": 18,
   "metadata": {},
   "outputs": [],
   "source": [
    "from sympy.stats import DiscreteMarkovChain, TransitionMatrixOf\n",
    "from sympy import Matrix, MatrixSymbol, Eq\n",
    "from sympy.stats import P"
   ]
  },
  {
   "cell_type": "code",
   "execution_count": 20,
   "metadata": {},
   "outputs": [
    {
     "data": {
      "text/latex": [
       "$\\displaystyle \\left[\\begin{matrix}0.5 & 0.2 & 0.3\\\\0.2 & 0.5 & 0.3\\\\0.2 & 0.3 & 0.5\\end{matrix}\\right]$"
      ],
      "text/plain": [
       "Matrix([\n",
       "[0.5, 0.2, 0.3],\n",
       "[0.2, 0.5, 0.3],\n",
       "[0.2, 0.3, 0.5]])"
      ]
     },
     "execution_count": 20,
     "metadata": {},
     "output_type": "execute_result"
    }
   ],
   "source": [
    "T = Matrix([[0.5, 0.2, 0.3],[0.2, 0.5, 0.3],[0.2, 0.3, 0.5]]) #Create a transition matrix (columns must add to one)\n",
    "T"
   ]
  },
  {
   "cell_type": "code",
   "execution_count": 41,
   "metadata": {},
   "outputs": [
    {
     "data": {
      "text/latex": [
       "$\\displaystyle DiscreteMarkovChain\\left(Y, \\left\\{0, 1, 2\\right\\}, \\left[\\begin{matrix}0.5 & 0.2 & 0.3\\\\0.2 & 0.5 & 0.3\\\\0.2 & 0.3 & 0.5\\end{matrix}\\right]\\right)$"
      ],
      "text/plain": [
       "DiscreteMarkovChain(Y, FiniteSet(0, 1, 2), Matrix([\n",
       "[0.5, 0.2, 0.3],\n",
       "[0.2, 0.5, 0.3],\n",
       "[0.2, 0.3, 0.5]]))"
      ]
     },
     "execution_count": 41,
     "metadata": {},
     "output_type": "execute_result"
    }
   ],
   "source": [
    "Y = DiscreteMarkovChain(\"Y\", [0, 1, 2], T) #add a set of state labels 0,1,2\n",
    "Y"
   ]
  },
  {
   "cell_type": "code",
   "execution_count": 74,
   "metadata": {},
   "outputs": [
    {
     "data": {
      "text/latex": [
       "$\\displaystyle DiscreteMarkovChain\\left(YS, \\mathbb{R}, \\text{None}\\right)$"
      ],
      "text/plain": [
       "DiscreteMarkovChain(YS, Reals, None)"
      ]
     },
     "execution_count": 74,
     "metadata": {},
     "output_type": "execute_result"
    }
   ],
   "source": [
    "YS = DiscreteMarkovChain(\"YS\") #initializes an empty markov chain with symbolic name YS\n",
    "YS\n"
   ]
  },
  {
   "cell_type": "code",
   "execution_count": 27,
   "metadata": {},
   "outputs": [
    {
     "data": {
      "text/latex": [
       "$\\displaystyle \\left\\{0, 1, 2\\right\\}$"
      ],
      "text/plain": [
       "FiniteSet(0, 1, 2)"
      ]
     },
     "execution_count": 27,
     "metadata": {},
     "output_type": "execute_result"
    }
   ],
   "source": [
    "Y.state_space #print the state space of the Markov Chain"
   ]
  },
  {
   "cell_type": "code",
   "execution_count": 28,
   "metadata": {},
   "outputs": [
    {
     "data": {
      "text/latex": [
       "$\\displaystyle \\left[\\begin{matrix}0.5 & 0.2 & 0.3\\\\0.2 & 0.5 & 0.3\\\\0.2 & 0.3 & 0.5\\end{matrix}\\right]$"
      ],
      "text/plain": [
       "Matrix([\n",
       "[0.5, 0.2, 0.3],\n",
       "[0.2, 0.5, 0.3],\n",
       "[0.2, 0.3, 0.5]])"
      ]
     },
     "execution_count": 28,
     "metadata": {},
     "output_type": "execute_result"
    }
   ],
   "source": [
    "Y.transition_probabilities #print the transition matrix"
   ]
  },
  {
   "cell_type": "code",
   "execution_count": 91,
   "metadata": {},
   "outputs": [
    {
     "data": {
      "text/latex": [
       "$\\displaystyle \\left[\\begin{array}{ccc}T_{0, 0} & T_{0, 1} & T_{0, 2}\\\\T_{1, 0} & T_{1, 1} & T_{1, 2}\\\\T_{2, 0} & T_{2, 1} & T_{2, 2}\\end{array}\\right]$"
      ],
      "text/plain": [
       "Matrix([\n",
       "[T[0, 0], T[0, 1], T[0, 2]],\n",
       "[T[1, 0], T[1, 1], T[1, 2]],\n",
       "[T[2, 0], T[2, 1], T[2, 2]]])"
      ]
     },
     "execution_count": 91,
     "metadata": {},
     "output_type": "execute_result"
    }
   ],
   "source": [
    "TS = MatrixSymbol('T', 3, 3)\n",
    "Matrix(TS) #create 3 x 3 matrix that is a copy of matrix T"
   ]
  },
  {
   "cell_type": "code",
   "execution_count": 92,
   "metadata": {},
   "outputs": [],
   "source": [
    "trans_of_YS = TransitionMatrixOf(YS, TS) #Associates to Markov Chain YS the transition matrix TS"
   ]
  },
  {
   "cell_type": "code",
   "execution_count": 140,
   "metadata": {},
   "outputs": [
    {
     "data": {
      "text/latex": [
       "$\\displaystyle T_{0, 2} T_{1, 0} + T_{1, 1} T_{1, 2} + T_{1, 2} T_{2, 2}$"
      ],
      "text/plain": [
       "T[0, 2]*T[1, 0] + T[1, 1]*T[1, 2] + T[1, 2]*T[2, 2]"
      ]
     },
     "execution_count": 140,
     "metadata": {},
     "output_type": "execute_result"
    }
   ],
   "source": [
    "#what is the formula to compute the probability that being at state 1 at cycle 1 (YS[1]), we will be at state 2 at cycle 3 (YS(3)])?\n",
    "P(Eq(YS[3], 2),( Eq(YS[1], 1) & trans_of_YS ) ) \n"
   ]
  },
  {
   "cell_type": "code",
   "execution_count": 33,
   "metadata": {},
   "outputs": [
    {
     "data": {
      "text/latex": [
       "$\\displaystyle 0.36$"
      ],
      "text/plain": [
       "0.36"
      ]
     },
     "execution_count": 33,
     "metadata": {},
     "output_type": "execute_result"
    }
   ],
   "source": [
    "#excuting the multiplication we obtain\n",
    "P(Eq(Y[3], 2), Eq(Y[1], 1)).round(2)\n"
   ]
  },
  {
   "cell_type": "code",
   "execution_count": 141,
   "metadata": {},
   "outputs": [
    {
     "data": {
      "text/latex": [
       "$\\displaystyle \\left(\\left(T_{0, 0} T_{1, 0} + T_{1, 0} T_{1, 1} + T_{1, 2} T_{2, 0}\\right) T_{0, 0} + \\left(T_{0, 1} T_{1, 0} + T_{1, 1}^{2} + T_{1, 2} T_{2, 1}\\right) T_{1, 0} + \\left(T_{0, 2} T_{1, 0} + T_{1, 1} T_{1, 2} + T_{1, 2} T_{2, 2}\\right) T_{2, 0}\\right) T_{0, 2} + \\left(\\left(T_{0, 0} T_{1, 0} + T_{1, 0} T_{1, 1} + T_{1, 2} T_{2, 0}\\right) T_{0, 1} + \\left(T_{0, 1} T_{1, 0} + T_{1, 1}^{2} + T_{1, 2} T_{2, 1}\\right) T_{1, 1} + \\left(T_{0, 2} T_{1, 0} + T_{1, 1} T_{1, 2} + T_{1, 2} T_{2, 2}\\right) T_{2, 1}\\right) T_{1, 2} + \\left(\\left(T_{0, 0} T_{1, 0} + T_{1, 0} T_{1, 1} + T_{1, 2} T_{2, 0}\\right) T_{0, 2} + \\left(T_{0, 1} T_{1, 0} + T_{1, 1}^{2} + T_{1, 2} T_{2, 1}\\right) T_{1, 2} + \\left(T_{0, 2} T_{1, 0} + T_{1, 1} T_{1, 2} + T_{1, 2} T_{2, 2}\\right) T_{2, 2}\\right) T_{2, 2}$"
      ],
      "text/plain": [
       "((T[0, 0]*T[1, 0] + T[1, 0]*T[1, 1] + T[1, 2]*T[2, 0])*T[0, 0] + (T[0, 1]*T[1, 0] + T[1, 1]**2 + T[1, 2]*T[2, 1])*T[1, 0] + (T[0, 2]*T[1, 0] + T[1, 1]*T[1, 2] + T[1, 2]*T[2, 2])*T[2, 0])*T[0, 2] + ((T[0, 0]*T[1, 0] + T[1, 0]*T[1, 1] + T[1, 2]*T[2, 0])*T[0, 1] + (T[0, 1]*T[1, 0] + T[1, 1]**2 + T[1, 2]*T[2, 1])*T[1, 1] + (T[0, 2]*T[1, 0] + T[1, 1]*T[1, 2] + T[1, 2]*T[2, 2])*T[2, 1])*T[1, 2] + ((T[0, 0]*T[1, 0] + T[1, 0]*T[1, 1] + T[1, 2]*T[2, 0])*T[0, 2] + (T[0, 1]*T[1, 0] + T[1, 1]**2 + T[1, 2]*T[2, 1])*T[1, 2] + (T[0, 2]*T[1, 0] + T[1, 1]*T[1, 2] + T[1, 2]*T[2, 2])*T[2, 2])*T[2, 2]"
      ]
     },
     "execution_count": 141,
     "metadata": {},
     "output_type": "execute_result"
    }
   ],
   "source": [
    "#what is formula for computing the probability that: being at state 1 at cycle 1 (YS[1]), we will be at state 2 at cycle 3 (YS(4)])?\n",
    "P(Eq(YS[5], 2),( Eq(YS[1], 1) & trans_of_YS ) ) \n"
   ]
  },
  {
   "cell_type": "code",
   "execution_count": 143,
   "metadata": {},
   "outputs": [
    {
     "data": {
      "text/latex": [
       "$\\displaystyle 0.37$"
      ],
      "text/plain": [
       "0.37"
      ]
     },
     "execution_count": 143,
     "metadata": {},
     "output_type": "execute_result"
    }
   ],
   "source": [
    "P(Eq(Y[5], 2), Eq(Y[1], 1)).round(2) #compute the probability"
   ]
  }
 ],
 "metadata": {
  "kernelspec": {
   "display_name": "Python 3",
   "language": "python",
   "name": "python3"
  },
  "language_info": {
   "codemirror_mode": {
    "name": "ipython",
    "version": 3
   },
   "file_extension": ".py",
   "mimetype": "text/x-python",
   "name": "python",
   "nbconvert_exporter": "python",
   "pygments_lexer": "ipython3",
   "version": "3.7.1"
  }
 },
 "nbformat": 4,
 "nbformat_minor": 2
}
