{
 "cells": [
  {
   "cell_type": "code",
   "execution_count": 48,
   "metadata": {},
   "outputs": [],
   "source": [
    "from sympy.stats import DiscreteMarkovChain, TransitionMatrixOf\n",
    "from sympy import Matrix, MatrixSymbol, Eq, Symbol\n",
    "from sympy.stats import P"
   ]
  },
  {
   "cell_type": "code",
   "execution_count": 24,
   "metadata": {},
   "outputs": [
    {
     "data": {
      "text/latex": [
       "$\\displaystyle \\left[\\begin{matrix}0.15 & 0.05 & 0 & 0.8 & 0 & 0\\\\0.5 & 0.25 & 0.1 & 0 & 0.15 & 0\\\\0.25 & 0 & 0.5 & 0 & 0 & 0.25\\\\0.8 & 0 & 0 & 0.15 & 0.05 & 0\\\\0 & 0 & 0 & 0.5 & 0.25 & 0.25\\\\0.25 & 0 & 0 & 0.25 & 0 & 0.5\\end{matrix}\\right]$"
      ],
      "text/plain": [
       "Matrix([\n",
       "[0.15, 0.05,   0,  0.8,    0,    0],\n",
       "[ 0.5, 0.25, 0.1,    0, 0.15,    0],\n",
       "[0.25,    0, 0.5,    0,    0, 0.25],\n",
       "[ 0.8,    0,   0, 0.15, 0.05,    0],\n",
       "[   0,    0,   0,  0.5, 0.25, 0.25],\n",
       "[0.25,    0,   0, 0.25,    0,  0.5]])"
      ]
     },
     "execution_count": 24,
     "metadata": {},
     "output_type": "execute_result"
    }
   ],
   "source": [
    "T = Matrix([[0.15, 0.05, 0, 0.8, 0, 0], [0.5, 0.25, 0.1, 0, 0.15, 0], [0.25, 0, 0.5, 0, 0, 0.25], [0.8, 0, 0, 0.15, 0.05, 0], [0, 0, 0, 0.5, 0.25, 0.25], [0.25, 0, 0, 0.25, 0, 0.5]])\n",
    "T"
   ]
  },
  {
   "cell_type": "code",
   "execution_count": 41,
   "metadata": {},
   "outputs": [
    {
     "data": {
      "text/latex": [
       "$\\displaystyle DiscreteMarkovChain\\left(Y, \\left( so_{1}, \\  1, \\  2, \\  3, \\  4, \\  5\\right), \\left[\\begin{matrix}0.15 & 0.05 & 0 & 0.8 & 0 & 0\\\\0.5 & 0.25 & 0.1 & 0 & 0.15 & 0\\\\0.25 & 0 & 0.5 & 0 & 0 & 0.25\\\\0.8 & 0 & 0 & 0.15 & 0.05 & 0\\\\0 & 0 & 0 & 0.5 & 0.25 & 0.25\\\\0.25 & 0 & 0 & 0.25 & 0 & 0.5\\end{matrix}\\right]\\right)$"
      ],
      "text/plain": [
       "DiscreteMarkovChain(Y, (so1, 1, 2, 3, 4, 5), Matrix([\n",
       "[0.15, 0.05,   0,  0.8,    0,    0],\n",
       "[ 0.5, 0.25, 0.1,    0, 0.15,    0],\n",
       "[0.25,    0, 0.5,    0,    0, 0.25],\n",
       "[ 0.8,    0,   0, 0.15, 0.05,    0],\n",
       "[   0,    0,   0,  0.5, 0.25, 0.25],\n",
       "[0.25,    0,   0, 0.25,    0,  0.5]]))"
      ]
     },
     "execution_count": 41,
     "metadata": {},
     "output_type": "execute_result"
    }
   ],
   "source": [
    "Y = DiscreteMarkovChain(\"Y\", [0, 1, 2, 3, 4, 5], T)\n",
    "Y"
   ]
  },
  {
   "cell_type": "code",
   "execution_count": 9,
   "metadata": {},
   "outputs": [
    {
     "data": {
      "text/latex": [
       "$\\displaystyle DiscreteMarkovChain\\left(YS, Range\\left(0, n, 1\\right), _T\\right)$"
      ],
      "text/plain": [
       "DiscreteMarkovChain(YS, Range(0, _n, 1), _T)"
      ]
     },
     "execution_count": 9,
     "metadata": {},
     "output_type": "execute_result"
    }
   ],
   "source": [
    "YS = DiscreteMarkovChain(\"YS\") #initializes an empty markov chain with symbolic name YS\n",
    "YS"
   ]
  },
  {
   "cell_type": "code",
   "execution_count": 20,
   "metadata": {},
   "outputs": [
    {
     "data": {
      "text/latex": [
       "$\\displaystyle \\left[\\begin{array}{cccccc}T_{0, 0} & T_{0, 1} & T_{0, 2} & T_{0, 3} & T_{0, 4} & T_{0, 5}\\\\T_{1, 0} & T_{1, 1} & T_{1, 2} & T_{1, 3} & T_{1, 4} & T_{1, 5}\\\\T_{2, 0} & T_{2, 1} & T_{2, 2} & T_{2, 3} & T_{2, 4} & T_{2, 5}\\\\T_{3, 0} & T_{3, 1} & T_{3, 2} & T_{3, 3} & T_{3, 4} & T_{3, 5}\\\\T_{4, 0} & T_{4, 1} & T_{4, 2} & T_{4, 3} & T_{4, 4} & T_{4, 5}\\\\T_{5, 0} & T_{5, 1} & T_{5, 2} & T_{5, 3} & T_{5, 4} & T_{5, 5}\\end{array}\\right]$"
      ],
      "text/plain": [
       "Matrix([\n",
       "[T[0, 0], T[0, 1], T[0, 2], T[0, 3], T[0, 4], T[0, 5]],\n",
       "[T[1, 0], T[1, 1], T[1, 2], T[1, 3], T[1, 4], T[1, 5]],\n",
       "[T[2, 0], T[2, 1], T[2, 2], T[2, 3], T[2, 4], T[2, 5]],\n",
       "[T[3, 0], T[3, 1], T[3, 2], T[3, 3], T[3, 4], T[3, 5]],\n",
       "[T[4, 0], T[4, 1], T[4, 2], T[4, 3], T[4, 4], T[4, 5]],\n",
       "[T[5, 0], T[5, 1], T[5, 2], T[5, 3], T[5, 4], T[5, 5]]])"
      ]
     },
     "execution_count": 20,
     "metadata": {},
     "output_type": "execute_result"
    }
   ],
   "source": [
    "TS = MatrixSymbol('T', 6, 6)\n",
    "Matrix(TS)"
   ]
  },
  {
   "cell_type": "code",
   "execution_count": 37,
   "metadata": {},
   "outputs": [],
   "source": [
    "trans_of_YS = TransitionMatrixOf(YS, TS) #Associates to Markov Chain YS the transition matrix TS"
   ]
  },
  {
   "cell_type": "code",
   "execution_count": 43,
   "metadata": {},
   "outputs": [
    {
     "data": {
      "text/latex": [
       "$\\displaystyle T_{0, 3}$"
      ],
      "text/plain": [
       "T[0, 3]"
      ]
     },
     "execution_count": 43,
     "metadata": {},
     "output_type": "execute_result"
    }
   ],
   "source": [
    "P(Eq(YS[2], 3), (Eq(YS[1], 0) & trans_of_YS)) # test to see if it works"
   ]
  },
  {
   "cell_type": "code",
   "execution_count": 44,
   "metadata": {},
   "outputs": [
    {
     "data": {
      "text/latex": [
       "$\\displaystyle 0.8$"
      ],
      "text/plain": [
       "0.80"
      ]
     },
     "execution_count": 44,
     "metadata": {},
     "output_type": "execute_result"
    }
   ],
   "source": [
    "P(Eq(Y[2], 3), Eq(Y[1], 0)).round(2) # test to see if it works"
   ]
  },
  {
   "cell_type": "code",
   "execution_count": 51,
   "metadata": {},
   "outputs": [
    {
     "data": {
      "text/latex": [
       "$\\displaystyle x$"
      ],
      "text/plain": [
       "x"
      ]
     },
     "execution_count": 51,
     "metadata": {},
     "output_type": "execute_result"
    }
   ],
   "source": [
    "x = Symbol(\"x\")\n",
    "x"
   ]
  },
  {
   "cell_type": "code",
   "execution_count": 53,
   "metadata": {},
   "outputs": [
    {
     "data": {
      "text/latex": [
       "$\\displaystyle 0.64$"
      ],
      "text/plain": [
       "0.64"
      ]
     },
     "execution_count": 53,
     "metadata": {},
     "output_type": "execute_result"
    }
   ],
   "source": [
    "P(Eq(Y[2], 3) & Eq(Y[3], 0), Eq(Y[1], 0)).round(2) # test to see if it works"
   ]
  },
  {
   "cell_type": "code",
   "execution_count": 63,
   "metadata": {},
   "outputs": [
    {
     "data": {
      "text/latex": [
       "$\\displaystyle T_{0, 1} T_{1, 2}$"
      ],
      "text/plain": [
       "T[0, 1]*T[1, 2]"
      ]
     },
     "execution_count": 63,
     "metadata": {},
     "output_type": "execute_result"
    }
   ],
   "source": [
    "P((Eq(YS[2], 1) & Eq(YS[3], 2)), (Eq(YS[1], 0) & trans_of_YS))"
   ]
  },
  {
   "cell_type": "code",
   "execution_count": null,
   "metadata": {},
   "outputs": [],
   "source": [
    "P((Eq(YS[3], 1) & Eq(YS[4], 2)), (Eq(YS[1], 0) & trans_of_YS))"
   ]
  }
 ],
 "metadata": {
  "kernelspec": {
   "display_name": "Python 3",
   "language": "python",
   "name": "python3"
  },
  "language_info": {
   "codemirror_mode": {
    "name": "ipython",
    "version": 3
   },
   "file_extension": ".py",
   "mimetype": "text/x-python",
   "name": "python",
   "nbconvert_exporter": "python",
   "pygments_lexer": "ipython3",
   "version": "3.9.0"
  }
 },
 "nbformat": 4,
 "nbformat_minor": 4
}
