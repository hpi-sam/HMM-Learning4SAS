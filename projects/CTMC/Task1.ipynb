{
 "metadata": {
  "language_info": {
   "codemirror_mode": {
    "name": "ipython",
    "version": 3
   },
   "file_extension": ".py",
   "mimetype": "text/x-python",
   "name": "python",
   "nbconvert_exporter": "python",
   "pygments_lexer": "ipython3",
   "version": "3.9.0-final"
  },
  "orig_nbformat": 2,
  "kernelspec": {
   "name": "python3",
   "display_name": "Python 3.9.0 64-bit",
   "metadata": {
    "interpreter": {
     "hash": "ac59ebe37160ed0dfa835113d9b8498d9f09ceb179beaac4002f036b9467c963"
    }
   }
  }
 },
 "nbformat": 4,
 "nbformat_minor": 2,
 "cells": [
  {
   "cell_type": "code",
   "execution_count": 2,
   "metadata": {},
   "outputs": [],
   "source": [
    "from sympy.stats import ContinuousMarkovChain, TransitionMatrixOf\n",
    "from sympy import Matrix, MatrixSymbol, Eq, Symbol, zeros, S\n",
    "from sympy.stats import P"
   ]
  },
  {
   "cell_type": "code",
   "execution_count": 15,
   "metadata": {},
   "outputs": [
    {
     "output_type": "execute_result",
     "data": {
      "text/plain": [
       "Matrix([\n",
       "[80, 240,   0, 15,   0,  0],\n",
       "[24,  48, 120,  0,  80,  0],\n",
       "[48,   0,  24,  0,   0, 48],\n",
       "[15,   0,   0, 80, 240,  0],\n",
       "[ 0,   0,   0, 24,  48, 48],\n",
       "[48,   0,   0, 48,   0, 24]])"
      ],
      "text/latex": "$\\displaystyle \\left[\\begin{matrix}80 & 240 & 0 & 15 & 0 & 0\\\\24 & 48 & 120 & 0 & 80 & 0\\\\48 & 0 & 24 & 0 & 0 & 48\\\\15 & 0 & 0 & 80 & 240 & 0\\\\0 & 0 & 0 & 24 & 48 & 48\\\\48 & 0 & 0 & 48 & 0 & 24\\end{matrix}\\right]$"
     },
     "metadata": {},
     "execution_count": 15
    }
   ],
   "source": [
    "a = [[1 / 0.15, 1 / 0.05, 0, 1 / 0.8, 0, 0], [1 / 0.5, 1 / 0.25, 1 / 0.1, 0, 1 / 0.15, 0], [1 / 0.25, 0, 1 / 0.5, 0, 0, 1 / 0.25], [1 / 0.8, 0, 0, 1 / 0.15, 1 / 0.05, 0], [0, 0, 0, 1 / 0.5, 1 / 0.25, 1 / 0.25], [1 / 0.25, 0, 0, 1 / 0.25, 0, 1 / 0.5]]\n",
    "for i in range(len(a)):\n",
    "    for j in range(len(a[i])):\n",
    "        a[i][j] = int(12 * a[i][j])\n",
    "R = Matrix(a)\n",
    "R"
   ]
  },
  {
   "cell_type": "code",
   "execution_count": 8,
   "metadata": {},
   "outputs": [],
   "source": [
    "def generator_matrix(matrix):\n",
    "    width, height = matrix.shape\n",
    "    new_matrix = [[0.0 for col in range(height)] for row in range(width)]\n",
    "    for i in range(height):\n",
    "        row = matrix.row(i)\n",
    "        for j in range(width):\n",
    "            if i != j:\n",
    "                new_matrix[i][j] = S(row[j])\n",
    "            else:\n",
    "                new_matrix[i][j] = S(-sum(row) + row[j])\n",
    "    return Matrix(new_matrix)"
   ]
  },
  {
   "cell_type": "code",
   "execution_count": 9,
   "metadata": {},
   "outputs": [
    {
     "output_type": "execute_result",
     "data": {
      "text/plain": [
       "Matrix([\n",
       "[-255,  240,   0,   15,   0,   0],\n",
       "[  24, -224, 120,    0,  80,   0],\n",
       "[  48,    0, -96,    0,   0,  48],\n",
       "[  15,    0,   0, -255, 240,   0],\n",
       "[   0,    0,   0,   24, -72,  48],\n",
       "[  48,    0,   0,   48,   0, -96]])"
      ],
      "text/latex": "$\\displaystyle \\left[\\begin{matrix}-255 & 240 & 0 & 15 & 0 & 0\\\\24 & -224 & 120 & 0 & 80 & 0\\\\48 & 0 & -96 & 0 & 0 & 48\\\\15 & 0 & 0 & -255 & 240 & 0\\\\0 & 0 & 0 & 24 & -72 & 48\\\\48 & 0 & 0 & 48 & 0 & -96\\end{matrix}\\right]$"
     },
     "metadata": {},
     "execution_count": 9
    }
   ],
   "source": [
    "G = generator_matrix(R)\n",
    "G"
   ]
  },
  {
   "cell_type": "code",
   "execution_count": 10,
   "metadata": {},
   "outputs": [
    {
     "output_type": "execute_result",
     "data": {
      "text/plain": [
       "ContinuousMarkovChain(Y, (0, 1, 2, 3, 4, 5), Matrix([\n",
       "[-255,  240,   0,   15,   0,   0],\n",
       "[  24, -224, 120,    0,  80,   0],\n",
       "[  48,    0, -96,    0,   0,  48],\n",
       "[  15,    0,   0, -255, 240,   0],\n",
       "[   0,    0,   0,   24, -72,  48],\n",
       "[  48,    0,   0,   48,   0, -96]]))"
      ],
      "text/latex": "$\\displaystyle ContinuousMarkovChain\\left(Y, \\left( 0, \\  1, \\  2, \\  3, \\  4, \\  5\\right), \\left[\\begin{matrix}-255 & 240 & 0 & 15 & 0 & 0\\\\24 & -224 & 120 & 0 & 80 & 0\\\\48 & 0 & -96 & 0 & 0 & 48\\\\15 & 0 & 0 & -255 & 240 & 0\\\\0 & 0 & 0 & 24 & -72 & 48\\\\48 & 0 & 0 & 48 & 0 & -96\\end{matrix}\\right]\\right)$"
     },
     "metadata": {},
     "execution_count": 10
    }
   ],
   "source": [
    "Y = ContinuousMarkovChain(\"Y\", state_space=[0, 1, 2, 3, 4, 5], gen_mat=G)\n",
    "Y"
   ]
  },
  {
   "cell_type": "code",
   "execution_count": 13,
   "metadata": {},
   "outputs": [
    {
     "output_type": "execute_result",
     "data": {
      "text/plain": [
       "Matrix([[2128/26499, 760/8833, 950/8833, 32/363, 3440/8833, 2195/8833]])"
      ],
      "text/latex": "$\\displaystyle \\left[\\begin{matrix}\\frac{2128}{26499} & \\frac{760}{8833} & \\frac{950}{8833} & \\frac{32}{363} & \\frac{3440}{8833} & \\frac{2195}{8833}\\end{matrix}\\right]$"
     },
     "metadata": {},
     "execution_count": 13
    }
   ],
   "source": [
    "Y.limiting_distribution()"
   ]
  },
  {
   "cell_type": "code",
   "execution_count": 14,
   "metadata": {},
   "outputs": [
    {
     "output_type": "execute_result",
     "data": {
      "text/plain": [
       "Matrix([[1/2, 1/2]])"
      ],
      "text/latex": "$\\displaystyle \\left[\\begin{matrix}\\frac{1}{2} & \\frac{1}{2}\\end{matrix}\\right]$"
     },
     "metadata": {},
     "execution_count": 14
    }
   ],
   "source": [
    "G2 = Matrix([[-S(1), S(1)], [S(1), -S(1)]])\n",
    "C2 = ContinuousMarkovChain('C', state_space=[0, 1], gen_mat=G2)\n",
    "C2.limiting_distribution()"
   ]
  },
  {
   "cell_type": "code",
   "execution_count": null,
   "metadata": {},
   "outputs": [],
   "source": []
  }
 ]
}